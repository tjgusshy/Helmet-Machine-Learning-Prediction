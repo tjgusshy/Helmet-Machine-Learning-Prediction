{
 "cells": [
  {
   "cell_type": "markdown",
   "id": "429e2256",
   "metadata": {},
   "source": [
    "# Predicting Helmet Use Before Accident\n",
    "A comprehensive analysis using accident_data.csv to explore which factors predict whether riders are wearing helmets before an accident. This notebook includes exploratory data analysis, machine learning modeling, metric identification, and validation."
   ]
  },
  {
   "cell_type": "markdown",
   "id": "d46de877",
   "metadata": {},
   "source": [
    "## 1. Load and Inspect Data\n",
    "Load the dataset, display the first few rows, and inspect data types and missing values. Our prediction target will be whether the rider was wearing a helmet before the accident."
   ]
  },
  {
   "cell_type": "code",
   "execution_count": 74,
   "id": "a3a0cb06",
   "metadata": {},
   "outputs": [
    {
     "data": {
      "application/vnd.microsoft.datawrangler.viewer.v0+json": {
       "columns": [
        {
         "name": "index",
         "rawType": "int64",
         "type": "integer"
        },
        {
         "name": "Year",
         "rawType": "int64",
         "type": "integer"
        },
        {
         "name": " Country",
         "rawType": "object",
         "type": "string"
        },
        {
         "name": " Accident_ID",
         "rawType": "object",
         "type": "string"
        },
        {
         "name": " Accident_Severity",
         "rawType": "object",
         "type": "string"
        },
        {
         "name": " Helmet_Use",
         "rawType": "object",
         "type": "string"
        },
        {
         "name": " Injury_Severity_Score",
         "rawType": "int64",
         "type": "integer"
        },
        {
         "name": " Road_Type",
         "rawType": "object",
         "type": "string"
        },
        {
         "name": " Weather_Condition",
         "rawType": "object",
         "type": "string"
        },
        {
         "name": " Time_of_Day",
         "rawType": "object",
         "type": "string"
        },
        {
         "name": " Age_of_Driver",
         "rawType": "int64",
         "type": "integer"
        },
        {
         "name": " Helmet_Law_Enforced",
         "rawType": "object",
         "type": "string"
        },
        {
         "name": " Traffic_Density",
         "rawType": "object",
         "type": "string"
        },
        {
         "name": " Alcohol_Involved",
         "rawType": "object",
         "type": "string"
        },
        {
         "name": " Speed_Limit",
         "rawType": "object",
         "type": "string"
        }
       ],
       "ref": "d4e0c5d5-254f-44d9-ac83-66c2f7268c9e",
       "rows": [
        [
         "0",
         "2022",
         " Liberia",
         " ACC1       ",
         " Moderate         ",
         " Yes       ",
         "2",
         " Urban    ",
         " Rainy            ",
         " Afternoon  ",
         "50",
         " Yes                ",
         " Medium         ",
         " No              ",
         " 41-60 km/h"
        ],
        [
         "1",
         "2019",
         " Liberia",
         " ACC2       ",
         " Moderate         ",
         " Yes       ",
         "6",
         " Rural    ",
         " Rainy            ",
         " Afternoon  ",
         "22",
         " Yes                ",
         " Low            ",
         " Yes             ",
         " 61-80 km/h"
        ],
        [
         "2",
         "2020",
         " Liberia",
         " ACC3       ",
         " Minor            ",
         " No        ",
         "12",
         " Urban    ",
         " Rainy            ",
         " Evening    ",
         "45",
         " Yes                ",
         " Low            ",
         " Yes             ",
         " 41-60 km/h"
        ],
        [
         "3",
         "2022",
         " Nigeria",
         " ACC4       ",
         " Severe           ",
         " No        ",
         "5",
         " Urban    ",
         " Clear            ",
         " Afternoon  ",
         "31",
         " Yes                ",
         " Low            ",
         " No              ",
         " 41-60 km/h"
        ],
        [
         "4",
         "2018",
         " Liberia",
         " ACC5       ",
         " Moderate         ",
         " No        ",
         "13",
         " Urban    ",
         " Rainy            ",
         " Evening    ",
         "22",
         " Yes                ",
         " High           ",
         " No              ",
         " <=40 km/h"
        ]
       ],
       "shape": {
        "columns": 14,
        "rows": 5
       }
      },
      "text/html": [
       "<div>\n",
       "<style scoped>\n",
       "    .dataframe tbody tr th:only-of-type {\n",
       "        vertical-align: middle;\n",
       "    }\n",
       "\n",
       "    .dataframe tbody tr th {\n",
       "        vertical-align: top;\n",
       "    }\n",
       "\n",
       "    .dataframe thead th {\n",
       "        text-align: right;\n",
       "    }\n",
       "</style>\n",
       "<table border=\"1\" class=\"dataframe\">\n",
       "  <thead>\n",
       "    <tr style=\"text-align: right;\">\n",
       "      <th></th>\n",
       "      <th>Year</th>\n",
       "      <th>Country</th>\n",
       "      <th>Accident_ID</th>\n",
       "      <th>Accident_Severity</th>\n",
       "      <th>Helmet_Use</th>\n",
       "      <th>Injury_Severity_Score</th>\n",
       "      <th>Road_Type</th>\n",
       "      <th>Weather_Condition</th>\n",
       "      <th>Time_of_Day</th>\n",
       "      <th>Age_of_Driver</th>\n",
       "      <th>Helmet_Law_Enforced</th>\n",
       "      <th>Traffic_Density</th>\n",
       "      <th>Alcohol_Involved</th>\n",
       "      <th>Speed_Limit</th>\n",
       "    </tr>\n",
       "  </thead>\n",
       "  <tbody>\n",
       "    <tr>\n",
       "      <th>0</th>\n",
       "      <td>2022</td>\n",
       "      <td>Liberia</td>\n",
       "      <td>ACC1</td>\n",
       "      <td>Moderate</td>\n",
       "      <td>Yes</td>\n",
       "      <td>2</td>\n",
       "      <td>Urban</td>\n",
       "      <td>Rainy</td>\n",
       "      <td>Afternoon</td>\n",
       "      <td>50</td>\n",
       "      <td>Yes</td>\n",
       "      <td>Medium</td>\n",
       "      <td>No</td>\n",
       "      <td>41-60 km/h</td>\n",
       "    </tr>\n",
       "    <tr>\n",
       "      <th>1</th>\n",
       "      <td>2019</td>\n",
       "      <td>Liberia</td>\n",
       "      <td>ACC2</td>\n",
       "      <td>Moderate</td>\n",
       "      <td>Yes</td>\n",
       "      <td>6</td>\n",
       "      <td>Rural</td>\n",
       "      <td>Rainy</td>\n",
       "      <td>Afternoon</td>\n",
       "      <td>22</td>\n",
       "      <td>Yes</td>\n",
       "      <td>Low</td>\n",
       "      <td>Yes</td>\n",
       "      <td>61-80 km/h</td>\n",
       "    </tr>\n",
       "    <tr>\n",
       "      <th>2</th>\n",
       "      <td>2020</td>\n",
       "      <td>Liberia</td>\n",
       "      <td>ACC3</td>\n",
       "      <td>Minor</td>\n",
       "      <td>No</td>\n",
       "      <td>12</td>\n",
       "      <td>Urban</td>\n",
       "      <td>Rainy</td>\n",
       "      <td>Evening</td>\n",
       "      <td>45</td>\n",
       "      <td>Yes</td>\n",
       "      <td>Low</td>\n",
       "      <td>Yes</td>\n",
       "      <td>41-60 km/h</td>\n",
       "    </tr>\n",
       "    <tr>\n",
       "      <th>3</th>\n",
       "      <td>2022</td>\n",
       "      <td>Nigeria</td>\n",
       "      <td>ACC4</td>\n",
       "      <td>Severe</td>\n",
       "      <td>No</td>\n",
       "      <td>5</td>\n",
       "      <td>Urban</td>\n",
       "      <td>Clear</td>\n",
       "      <td>Afternoon</td>\n",
       "      <td>31</td>\n",
       "      <td>Yes</td>\n",
       "      <td>Low</td>\n",
       "      <td>No</td>\n",
       "      <td>41-60 km/h</td>\n",
       "    </tr>\n",
       "    <tr>\n",
       "      <th>4</th>\n",
       "      <td>2018</td>\n",
       "      <td>Liberia</td>\n",
       "      <td>ACC5</td>\n",
       "      <td>Moderate</td>\n",
       "      <td>No</td>\n",
       "      <td>13</td>\n",
       "      <td>Urban</td>\n",
       "      <td>Rainy</td>\n",
       "      <td>Evening</td>\n",
       "      <td>22</td>\n",
       "      <td>Yes</td>\n",
       "      <td>High</td>\n",
       "      <td>No</td>\n",
       "      <td>&lt;=40 km/h</td>\n",
       "    </tr>\n",
       "  </tbody>\n",
       "</table>\n",
       "</div>"
      ],
      "text/plain": [
       "   Year   Country   Accident_ID   Accident_Severity   Helmet_Use  \\\n",
       "0  2022   Liberia   ACC1          Moderate            Yes          \n",
       "1  2019   Liberia   ACC2          Moderate            Yes          \n",
       "2  2020   Liberia   ACC3          Minor               No           \n",
       "3  2022   Nigeria   ACC4          Severe              No           \n",
       "4  2018   Liberia   ACC5          Moderate            No           \n",
       "\n",
       "    Injury_Severity_Score   Road_Type   Weather_Condition   Time_of_Day  \\\n",
       "0                       2   Urban       Rainy               Afternoon     \n",
       "1                       6   Rural       Rainy               Afternoon     \n",
       "2                      12   Urban       Rainy               Evening       \n",
       "3                       5   Urban       Clear               Afternoon     \n",
       "4                      13   Urban       Rainy               Evening       \n",
       "\n",
       "    Age_of_Driver   Helmet_Law_Enforced   Traffic_Density   Alcohol_Involved  \\\n",
       "0              50   Yes                   Medium            No                 \n",
       "1              22   Yes                   Low               Yes                \n",
       "2              45   Yes                   Low               Yes                \n",
       "3              31   Yes                   Low               No                 \n",
       "4              22   Yes                   High              No                 \n",
       "\n",
       "   Speed_Limit  \n",
       "0   41-60 km/h  \n",
       "1   61-80 km/h  \n",
       "2   41-60 km/h  \n",
       "3   41-60 km/h  \n",
       "4    <=40 km/h  "
      ]
     },
     "execution_count": 74,
     "metadata": {},
     "output_type": "execute_result"
    }
   ],
   "source": [
    "import pandas as pd\n",
    "import numpy as np\n",
    "import matplotlib.pyplot as plt\n",
    "import seaborn as sns\n",
    "\n",
    "# Load the dataset\n",
    "file_path = 'accident_data.csv'\n",
    "df = pd.read_csv(file_path)\n",
    "\n",
    "# Display first few rows\n",
    "df.head()"
   ]
  },
  {
   "cell_type": "code",
   "execution_count": 75,
   "id": "13a164b3",
   "metadata": {},
   "outputs": [
    {
     "name": "stdout",
     "output_type": "stream",
     "text": [
      "(500, 14)\n"
     ]
    }
   ],
   "source": [
    "# Display the shape of the DataFrame\n",
    "print(df.shape)"
   ]
  },
  {
   "cell_type": "code",
   "execution_count": 76,
   "id": "90d8671d",
   "metadata": {},
   "outputs": [
    {
     "data": {
      "application/vnd.microsoft.datawrangler.viewer.v0+json": {
       "columns": [
        {
         "name": "index",
         "rawType": "object",
         "type": "string"
        },
        {
         "name": "0",
         "rawType": "int64",
         "type": "integer"
        }
       ],
       "ref": "64610307-8680-4de6-b95b-0046b2040fbf",
       "rows": [
        [
         "Year",
         "0"
        ],
        [
         " Country",
         "0"
        ],
        [
         " Accident_ID",
         "0"
        ],
        [
         " Accident_Severity",
         "0"
        ],
        [
         " Helmet_Use",
         "0"
        ],
        [
         " Injury_Severity_Score",
         "0"
        ],
        [
         " Road_Type",
         "0"
        ],
        [
         " Weather_Condition",
         "0"
        ],
        [
         " Time_of_Day",
         "0"
        ],
        [
         " Age_of_Driver",
         "0"
        ],
        [
         " Helmet_Law_Enforced",
         "0"
        ],
        [
         " Traffic_Density",
         "0"
        ],
        [
         " Alcohol_Involved",
         "0"
        ],
        [
         " Speed_Limit",
         "0"
        ]
       ],
       "shape": {
        "columns": 1,
        "rows": 14
       }
      },
      "text/plain": [
       "Year                      0\n",
       " Country                  0\n",
       " Accident_ID              0\n",
       " Accident_Severity        0\n",
       " Helmet_Use               0\n",
       " Injury_Severity_Score    0\n",
       " Road_Type                0\n",
       " Weather_Condition        0\n",
       " Time_of_Day              0\n",
       " Age_of_Driver            0\n",
       " Helmet_Law_Enforced      0\n",
       " Traffic_Density          0\n",
       " Alcohol_Involved         0\n",
       " Speed_Limit              0\n",
       "dtype: int64"
      ]
     },
     "execution_count": 76,
     "metadata": {},
     "output_type": "execute_result"
    }
   ],
   "source": [
    "# Check data types\n",
    "df.dtypes\n",
    "\n",
    "# Check for missing values\n",
    "df.isnull().sum()"
   ]
  },
  {
   "cell_type": "code",
   "execution_count": 77,
   "id": "c312e96e",
   "metadata": {},
   "outputs": [
    {
     "data": {
      "application/vnd.microsoft.datawrangler.viewer.v0+json": {
       "columns": [
        {
         "name": "index",
         "rawType": "object",
         "type": "string"
        },
        {
         "name": "Year",
         "rawType": "float64",
         "type": "float"
        },
        {
         "name": " Country",
         "rawType": "object",
         "type": "unknown"
        },
        {
         "name": " Accident_ID",
         "rawType": "object",
         "type": "unknown"
        },
        {
         "name": " Accident_Severity",
         "rawType": "object",
         "type": "unknown"
        },
        {
         "name": " Helmet_Use",
         "rawType": "object",
         "type": "unknown"
        },
        {
         "name": " Injury_Severity_Score",
         "rawType": "float64",
         "type": "float"
        },
        {
         "name": " Road_Type",
         "rawType": "object",
         "type": "unknown"
        },
        {
         "name": " Weather_Condition",
         "rawType": "object",
         "type": "unknown"
        },
        {
         "name": " Time_of_Day",
         "rawType": "object",
         "type": "unknown"
        },
        {
         "name": " Age_of_Driver",
         "rawType": "float64",
         "type": "float"
        },
        {
         "name": " Helmet_Law_Enforced",
         "rawType": "object",
         "type": "unknown"
        },
        {
         "name": " Traffic_Density",
         "rawType": "object",
         "type": "unknown"
        },
        {
         "name": " Alcohol_Involved",
         "rawType": "object",
         "type": "unknown"
        },
        {
         "name": " Speed_Limit",
         "rawType": "object",
         "type": "unknown"
        }
       ],
       "ref": "0738ce46-9de1-4110-8bab-2c0a811755a5",
       "rows": [
        [
         "count",
         "500.0",
         "500",
         "500",
         "500",
         "500",
         "500.0",
         "500",
         "500",
         "500",
         "500.0",
         "500",
         "500",
         "500",
         "500"
        ],
        [
         "unique",
         null,
         "2",
         "500",
         "4",
         "2",
         null,
         "2",
         "4",
         "4",
         null,
         "2",
         "3",
         "2",
         "4"
        ],
        [
         "top",
         null,
         " Nigeria",
         " ACC1       ",
         " Minor            ",
         " Yes       ",
         null,
         " Urban    ",
         " Clear            ",
         " Morning    ",
         null,
         " Yes                ",
         " Medium         ",
         " No              ",
         " 41-60 km/h"
        ],
        [
         "freq",
         null,
         "254",
         "1",
         "214",
         "274",
         null,
         "339",
         "265",
         "133",
         null,
         "356",
         "249",
         "393",
         "220"
        ],
        [
         "mean",
         "2019.536",
         null,
         null,
         null,
         null,
         "7.812",
         null,
         null,
         null,
         "38.382",
         null,
         null,
         null,
         null
        ],
        [
         "std",
         "2.3331504842947295",
         null,
         null,
         null,
         null,
         "4.311593170898976",
         null,
         null,
         null,
         "12.225997957308197",
         null,
         null,
         null,
         null
        ],
        [
         "min",
         "2016.0",
         null,
         null,
         null,
         null,
         "1.0",
         null,
         null,
         null,
         "18.0",
         null,
         null,
         null,
         null
        ],
        [
         "25%",
         "2018.0",
         null,
         null,
         null,
         null,
         "4.0",
         null,
         null,
         null,
         "27.0",
         null,
         null,
         null,
         null
        ],
        [
         "50%",
         "2019.0",
         null,
         null,
         null,
         null,
         "7.0",
         null,
         null,
         null,
         "39.0",
         null,
         null,
         null,
         null
        ],
        [
         "75%",
         "2022.0",
         null,
         null,
         null,
         null,
         "12.0",
         null,
         null,
         null,
         "49.0",
         null,
         null,
         null,
         null
        ],
        [
         "max",
         "2023.0",
         null,
         null,
         null,
         null,
         "15.0",
         null,
         null,
         null,
         "59.0",
         null,
         null,
         null,
         null
        ]
       ],
       "shape": {
        "columns": 14,
        "rows": 11
       }
      },
      "text/html": [
       "<div>\n",
       "<style scoped>\n",
       "    .dataframe tbody tr th:only-of-type {\n",
       "        vertical-align: middle;\n",
       "    }\n",
       "\n",
       "    .dataframe tbody tr th {\n",
       "        vertical-align: top;\n",
       "    }\n",
       "\n",
       "    .dataframe thead th {\n",
       "        text-align: right;\n",
       "    }\n",
       "</style>\n",
       "<table border=\"1\" class=\"dataframe\">\n",
       "  <thead>\n",
       "    <tr style=\"text-align: right;\">\n",
       "      <th></th>\n",
       "      <th>Year</th>\n",
       "      <th>Country</th>\n",
       "      <th>Accident_ID</th>\n",
       "      <th>Accident_Severity</th>\n",
       "      <th>Helmet_Use</th>\n",
       "      <th>Injury_Severity_Score</th>\n",
       "      <th>Road_Type</th>\n",
       "      <th>Weather_Condition</th>\n",
       "      <th>Time_of_Day</th>\n",
       "      <th>Age_of_Driver</th>\n",
       "      <th>Helmet_Law_Enforced</th>\n",
       "      <th>Traffic_Density</th>\n",
       "      <th>Alcohol_Involved</th>\n",
       "      <th>Speed_Limit</th>\n",
       "    </tr>\n",
       "  </thead>\n",
       "  <tbody>\n",
       "    <tr>\n",
       "      <th>count</th>\n",
       "      <td>500.00000</td>\n",
       "      <td>500</td>\n",
       "      <td>500</td>\n",
       "      <td>500</td>\n",
       "      <td>500</td>\n",
       "      <td>500.000000</td>\n",
       "      <td>500</td>\n",
       "      <td>500</td>\n",
       "      <td>500</td>\n",
       "      <td>500.000000</td>\n",
       "      <td>500</td>\n",
       "      <td>500</td>\n",
       "      <td>500</td>\n",
       "      <td>500</td>\n",
       "    </tr>\n",
       "    <tr>\n",
       "      <th>unique</th>\n",
       "      <td>NaN</td>\n",
       "      <td>2</td>\n",
       "      <td>500</td>\n",
       "      <td>4</td>\n",
       "      <td>2</td>\n",
       "      <td>NaN</td>\n",
       "      <td>2</td>\n",
       "      <td>4</td>\n",
       "      <td>4</td>\n",
       "      <td>NaN</td>\n",
       "      <td>2</td>\n",
       "      <td>3</td>\n",
       "      <td>2</td>\n",
       "      <td>4</td>\n",
       "    </tr>\n",
       "    <tr>\n",
       "      <th>top</th>\n",
       "      <td>NaN</td>\n",
       "      <td>Nigeria</td>\n",
       "      <td>ACC1</td>\n",
       "      <td>Minor</td>\n",
       "      <td>Yes</td>\n",
       "      <td>NaN</td>\n",
       "      <td>Urban</td>\n",
       "      <td>Clear</td>\n",
       "      <td>Morning</td>\n",
       "      <td>NaN</td>\n",
       "      <td>Yes</td>\n",
       "      <td>Medium</td>\n",
       "      <td>No</td>\n",
       "      <td>41-60 km/h</td>\n",
       "    </tr>\n",
       "    <tr>\n",
       "      <th>freq</th>\n",
       "      <td>NaN</td>\n",
       "      <td>254</td>\n",
       "      <td>1</td>\n",
       "      <td>214</td>\n",
       "      <td>274</td>\n",
       "      <td>NaN</td>\n",
       "      <td>339</td>\n",
       "      <td>265</td>\n",
       "      <td>133</td>\n",
       "      <td>NaN</td>\n",
       "      <td>356</td>\n",
       "      <td>249</td>\n",
       "      <td>393</td>\n",
       "      <td>220</td>\n",
       "    </tr>\n",
       "    <tr>\n",
       "      <th>mean</th>\n",
       "      <td>2019.53600</td>\n",
       "      <td>NaN</td>\n",
       "      <td>NaN</td>\n",
       "      <td>NaN</td>\n",
       "      <td>NaN</td>\n",
       "      <td>7.812000</td>\n",
       "      <td>NaN</td>\n",
       "      <td>NaN</td>\n",
       "      <td>NaN</td>\n",
       "      <td>38.382000</td>\n",
       "      <td>NaN</td>\n",
       "      <td>NaN</td>\n",
       "      <td>NaN</td>\n",
       "      <td>NaN</td>\n",
       "    </tr>\n",
       "    <tr>\n",
       "      <th>std</th>\n",
       "      <td>2.33315</td>\n",
       "      <td>NaN</td>\n",
       "      <td>NaN</td>\n",
       "      <td>NaN</td>\n",
       "      <td>NaN</td>\n",
       "      <td>4.311593</td>\n",
       "      <td>NaN</td>\n",
       "      <td>NaN</td>\n",
       "      <td>NaN</td>\n",
       "      <td>12.225998</td>\n",
       "      <td>NaN</td>\n",
       "      <td>NaN</td>\n",
       "      <td>NaN</td>\n",
       "      <td>NaN</td>\n",
       "    </tr>\n",
       "    <tr>\n",
       "      <th>min</th>\n",
       "      <td>2016.00000</td>\n",
       "      <td>NaN</td>\n",
       "      <td>NaN</td>\n",
       "      <td>NaN</td>\n",
       "      <td>NaN</td>\n",
       "      <td>1.000000</td>\n",
       "      <td>NaN</td>\n",
       "      <td>NaN</td>\n",
       "      <td>NaN</td>\n",
       "      <td>18.000000</td>\n",
       "      <td>NaN</td>\n",
       "      <td>NaN</td>\n",
       "      <td>NaN</td>\n",
       "      <td>NaN</td>\n",
       "    </tr>\n",
       "    <tr>\n",
       "      <th>25%</th>\n",
       "      <td>2018.00000</td>\n",
       "      <td>NaN</td>\n",
       "      <td>NaN</td>\n",
       "      <td>NaN</td>\n",
       "      <td>NaN</td>\n",
       "      <td>4.000000</td>\n",
       "      <td>NaN</td>\n",
       "      <td>NaN</td>\n",
       "      <td>NaN</td>\n",
       "      <td>27.000000</td>\n",
       "      <td>NaN</td>\n",
       "      <td>NaN</td>\n",
       "      <td>NaN</td>\n",
       "      <td>NaN</td>\n",
       "    </tr>\n",
       "    <tr>\n",
       "      <th>50%</th>\n",
       "      <td>2019.00000</td>\n",
       "      <td>NaN</td>\n",
       "      <td>NaN</td>\n",
       "      <td>NaN</td>\n",
       "      <td>NaN</td>\n",
       "      <td>7.000000</td>\n",
       "      <td>NaN</td>\n",
       "      <td>NaN</td>\n",
       "      <td>NaN</td>\n",
       "      <td>39.000000</td>\n",
       "      <td>NaN</td>\n",
       "      <td>NaN</td>\n",
       "      <td>NaN</td>\n",
       "      <td>NaN</td>\n",
       "    </tr>\n",
       "    <tr>\n",
       "      <th>75%</th>\n",
       "      <td>2022.00000</td>\n",
       "      <td>NaN</td>\n",
       "      <td>NaN</td>\n",
       "      <td>NaN</td>\n",
       "      <td>NaN</td>\n",
       "      <td>12.000000</td>\n",
       "      <td>NaN</td>\n",
       "      <td>NaN</td>\n",
       "      <td>NaN</td>\n",
       "      <td>49.000000</td>\n",
       "      <td>NaN</td>\n",
       "      <td>NaN</td>\n",
       "      <td>NaN</td>\n",
       "      <td>NaN</td>\n",
       "    </tr>\n",
       "    <tr>\n",
       "      <th>max</th>\n",
       "      <td>2023.00000</td>\n",
       "      <td>NaN</td>\n",
       "      <td>NaN</td>\n",
       "      <td>NaN</td>\n",
       "      <td>NaN</td>\n",
       "      <td>15.000000</td>\n",
       "      <td>NaN</td>\n",
       "      <td>NaN</td>\n",
       "      <td>NaN</td>\n",
       "      <td>59.000000</td>\n",
       "      <td>NaN</td>\n",
       "      <td>NaN</td>\n",
       "      <td>NaN</td>\n",
       "      <td>NaN</td>\n",
       "    </tr>\n",
       "  </tbody>\n",
       "</table>\n",
       "</div>"
      ],
      "text/plain": [
       "              Year   Country   Accident_ID   Accident_Severity   Helmet_Use  \\\n",
       "count    500.00000       500           500                 500          500   \n",
       "unique         NaN         2           500                   4            2   \n",
       "top            NaN   Nigeria   ACC1          Minor               Yes          \n",
       "freq           NaN       254             1                 214          274   \n",
       "mean    2019.53600       NaN           NaN                 NaN          NaN   \n",
       "std        2.33315       NaN           NaN                 NaN          NaN   \n",
       "min     2016.00000       NaN           NaN                 NaN          NaN   \n",
       "25%     2018.00000       NaN           NaN                 NaN          NaN   \n",
       "50%     2019.00000       NaN           NaN                 NaN          NaN   \n",
       "75%     2022.00000       NaN           NaN                 NaN          NaN   \n",
       "max     2023.00000       NaN           NaN                 NaN          NaN   \n",
       "\n",
       "         Injury_Severity_Score   Road_Type   Weather_Condition   Time_of_Day  \\\n",
       "count               500.000000         500                 500           500   \n",
       "unique                     NaN           2                   4             4   \n",
       "top                        NaN   Urban       Clear               Morning       \n",
       "freq                       NaN         339                 265           133   \n",
       "mean                  7.812000         NaN                 NaN           NaN   \n",
       "std                   4.311593         NaN                 NaN           NaN   \n",
       "min                   1.000000         NaN                 NaN           NaN   \n",
       "25%                   4.000000         NaN                 NaN           NaN   \n",
       "50%                   7.000000         NaN                 NaN           NaN   \n",
       "75%                  12.000000         NaN                 NaN           NaN   \n",
       "max                  15.000000         NaN                 NaN           NaN   \n",
       "\n",
       "         Age_of_Driver   Helmet_Law_Enforced   Traffic_Density  \\\n",
       "count       500.000000                   500               500   \n",
       "unique             NaN                     2                 3   \n",
       "top                NaN   Yes                   Medium            \n",
       "freq               NaN                   356               249   \n",
       "mean         38.382000                   NaN               NaN   \n",
       "std          12.225998                   NaN               NaN   \n",
       "min          18.000000                   NaN               NaN   \n",
       "25%          27.000000                   NaN               NaN   \n",
       "50%          39.000000                   NaN               NaN   \n",
       "75%          49.000000                   NaN               NaN   \n",
       "max          59.000000                   NaN               NaN   \n",
       "\n",
       "         Alcohol_Involved  Speed_Limit  \n",
       "count                 500          500  \n",
       "unique                  2            4  \n",
       "top      No                 41-60 km/h  \n",
       "freq                  393          220  \n",
       "mean                  NaN          NaN  \n",
       "std                   NaN          NaN  \n",
       "min                   NaN          NaN  \n",
       "25%                   NaN          NaN  \n",
       "50%                   NaN          NaN  \n",
       "75%                   NaN          NaN  \n",
       "max                   NaN          NaN  "
      ]
     },
     "execution_count": 77,
     "metadata": {},
     "output_type": "execute_result"
    }
   ],
   "source": [
    "# descriptive statistics\n",
    "df.describe(include='all')"
   ]
  },
  {
   "cell_type": "code",
   "execution_count": 78,
   "id": "15b4cfed",
   "metadata": {},
   "outputs": [
    {
     "name": "stdout",
     "output_type": "stream",
     "text": [
      "<class 'pandas.core.frame.DataFrame'>\n",
      "RangeIndex: 500 entries, 0 to 499\n",
      "Data columns (total 14 columns):\n",
      " #   Column                  Non-Null Count  Dtype \n",
      "---  ------                  --------------  ----- \n",
      " 0   Year                    500 non-null    int64 \n",
      " 1    Country                500 non-null    object\n",
      " 2    Accident_ID            500 non-null    object\n",
      " 3    Accident_Severity      500 non-null    object\n",
      " 4    Helmet_Use             500 non-null    object\n",
      " 5    Injury_Severity_Score  500 non-null    int64 \n",
      " 6    Road_Type              500 non-null    object\n",
      " 7    Weather_Condition      500 non-null    object\n",
      " 8    Time_of_Day            500 non-null    object\n",
      " 9    Age_of_Driver          500 non-null    int64 \n",
      " 10   Helmet_Law_Enforced    500 non-null    object\n",
      " 11   Traffic_Density        500 non-null    object\n",
      " 12   Alcohol_Involved       500 non-null    object\n",
      " 13   Speed_Limit            500 non-null    object\n",
      "dtypes: int64(3), object(11)\n",
      "memory usage: 54.8+ KB\n"
     ]
    }
   ],
   "source": [
    "# Display the information about the DataFrame\n",
    "df.info()"
   ]
  },
  {
   "cell_type": "markdown",
   "id": "bb5c4297",
   "metadata": {},
   "source": [
    "## 2. Data Cleaning and Preprocessing\n",
    "Handle missing values, encode categorical variables, and ensure the data is suitable for analysis."
   ]
  },
  {
   "cell_type": "code",
   "execution_count": 79,
   "id": "c10fe3dd",
   "metadata": {},
   "outputs": [
    {
     "name": "stdout",
     "output_type": "stream",
     "text": [
      "Columns: ['Year', 'Country', 'Accident_ID', 'Accident_Severity', 'Helmet_Use', 'Injury_Severity_Score', 'Road_Type', 'Weather_Condition', 'Time_of_Day', 'Age_of_Driver', 'Helmet_Law_Enforced', 'Traffic_Density', 'Alcohol_Involved', 'Speed_Limit']\n"
     ]
    },
    {
     "data": {
      "application/vnd.microsoft.datawrangler.viewer.v0+json": {
       "columns": [
        {
         "name": "index",
         "rawType": "int64",
         "type": "integer"
        },
        {
         "name": "Year",
         "rawType": "int64",
         "type": "integer"
        },
        {
         "name": "Accident_ID",
         "rawType": "object",
         "type": "string"
        },
        {
         "name": "Accident_Severity",
         "rawType": "object",
         "type": "string"
        },
        {
         "name": "Helmet_Use",
         "rawType": "object",
         "type": "string"
        },
        {
         "name": "Injury_Severity_Score",
         "rawType": "int64",
         "type": "integer"
        },
        {
         "name": "Age_of_Driver",
         "rawType": "int64",
         "type": "integer"
        },
        {
         "name": "Helmet_Use_Binary",
         "rawType": "int64",
         "type": "integer"
        },
        {
         "name": "Accident_Severity_Cat",
         "rawType": "category",
         "type": "unknown"
        },
        {
         "name": "Country_Nigeria",
         "rawType": "bool",
         "type": "boolean"
        },
        {
         "name": "Road_Type_Urban",
         "rawType": "bool",
         "type": "boolean"
        },
        {
         "name": "Weather_Condition_Cloudy",
         "rawType": "bool",
         "type": "boolean"
        },
        {
         "name": "Weather_Condition_Foggy",
         "rawType": "bool",
         "type": "boolean"
        },
        {
         "name": "Weather_Condition_Rainy",
         "rawType": "bool",
         "type": "boolean"
        },
        {
         "name": "Time_of_Day_Evening",
         "rawType": "bool",
         "type": "boolean"
        },
        {
         "name": "Time_of_Day_Morning",
         "rawType": "bool",
         "type": "boolean"
        },
        {
         "name": "Time_of_Day_Night",
         "rawType": "bool",
         "type": "boolean"
        },
        {
         "name": "Helmet_Law_Enforced_Yes",
         "rawType": "bool",
         "type": "boolean"
        },
        {
         "name": "Traffic_Density_Low",
         "rawType": "bool",
         "type": "boolean"
        },
        {
         "name": "Traffic_Density_Medium",
         "rawType": "bool",
         "type": "boolean"
        },
        {
         "name": "Alcohol_Involved_Yes",
         "rawType": "bool",
         "type": "boolean"
        },
        {
         "name": "Speed_Limit_61-80 km/h",
         "rawType": "bool",
         "type": "boolean"
        },
        {
         "name": "Speed_Limit_80+ km/h",
         "rawType": "bool",
         "type": "boolean"
        },
        {
         "name": "Speed_Limit_<=40 km/h",
         "rawType": "bool",
         "type": "boolean"
        }
       ],
       "ref": "7a715901-f7bc-4298-aa33-a50f1f40a81a",
       "rows": [
        [
         "0",
         "2022",
         "ACC1",
         "Moderate",
         "Yes",
         "2",
         "50",
         "1",
         "Moderate",
         "False",
         "True",
         "False",
         "False",
         "True",
         "False",
         "False",
         "False",
         "True",
         "False",
         "True",
         "False",
         "False",
         "False",
         "False"
        ],
        [
         "1",
         "2019",
         "ACC2",
         "Moderate",
         "Yes",
         "6",
         "22",
         "1",
         "Moderate",
         "False",
         "False",
         "False",
         "False",
         "True",
         "False",
         "False",
         "False",
         "True",
         "True",
         "False",
         "True",
         "True",
         "False",
         "False"
        ],
        [
         "2",
         "2020",
         "ACC3",
         "Minor",
         "No",
         "12",
         "45",
         "0",
         "Minor",
         "False",
         "True",
         "False",
         "False",
         "True",
         "True",
         "False",
         "False",
         "True",
         "True",
         "False",
         "True",
         "False",
         "False",
         "False"
        ],
        [
         "3",
         "2022",
         "ACC4",
         "Severe",
         "No",
         "5",
         "31",
         "0",
         "Severe",
         "True",
         "True",
         "False",
         "False",
         "False",
         "False",
         "False",
         "False",
         "True",
         "True",
         "False",
         "False",
         "False",
         "False",
         "False"
        ],
        [
         "4",
         "2018",
         "ACC5",
         "Moderate",
         "No",
         "13",
         "22",
         "0",
         "Moderate",
         "False",
         "True",
         "False",
         "False",
         "True",
         "True",
         "False",
         "False",
         "True",
         "False",
         "False",
         "False",
         "False",
         "False",
         "True"
        ]
       ],
       "shape": {
        "columns": 23,
        "rows": 5
       }
      },
      "text/html": [
       "<div>\n",
       "<style scoped>\n",
       "    .dataframe tbody tr th:only-of-type {\n",
       "        vertical-align: middle;\n",
       "    }\n",
       "\n",
       "    .dataframe tbody tr th {\n",
       "        vertical-align: top;\n",
       "    }\n",
       "\n",
       "    .dataframe thead th {\n",
       "        text-align: right;\n",
       "    }\n",
       "</style>\n",
       "<table border=\"1\" class=\"dataframe\">\n",
       "  <thead>\n",
       "    <tr style=\"text-align: right;\">\n",
       "      <th></th>\n",
       "      <th>Year</th>\n",
       "      <th>Accident_ID</th>\n",
       "      <th>Accident_Severity</th>\n",
       "      <th>Helmet_Use</th>\n",
       "      <th>Injury_Severity_Score</th>\n",
       "      <th>Age_of_Driver</th>\n",
       "      <th>Helmet_Use_Binary</th>\n",
       "      <th>Accident_Severity_Cat</th>\n",
       "      <th>Country_Nigeria</th>\n",
       "      <th>Road_Type_Urban</th>\n",
       "      <th>...</th>\n",
       "      <th>Time_of_Day_Evening</th>\n",
       "      <th>Time_of_Day_Morning</th>\n",
       "      <th>Time_of_Day_Night</th>\n",
       "      <th>Helmet_Law_Enforced_Yes</th>\n",
       "      <th>Traffic_Density_Low</th>\n",
       "      <th>Traffic_Density_Medium</th>\n",
       "      <th>Alcohol_Involved_Yes</th>\n",
       "      <th>Speed_Limit_61-80 km/h</th>\n",
       "      <th>Speed_Limit_80+ km/h</th>\n",
       "      <th>Speed_Limit_&lt;=40 km/h</th>\n",
       "    </tr>\n",
       "  </thead>\n",
       "  <tbody>\n",
       "    <tr>\n",
       "      <th>0</th>\n",
       "      <td>2022</td>\n",
       "      <td>ACC1</td>\n",
       "      <td>Moderate</td>\n",
       "      <td>Yes</td>\n",
       "      <td>2</td>\n",
       "      <td>50</td>\n",
       "      <td>1</td>\n",
       "      <td>Moderate</td>\n",
       "      <td>False</td>\n",
       "      <td>True</td>\n",
       "      <td>...</td>\n",
       "      <td>False</td>\n",
       "      <td>False</td>\n",
       "      <td>False</td>\n",
       "      <td>True</td>\n",
       "      <td>False</td>\n",
       "      <td>True</td>\n",
       "      <td>False</td>\n",
       "      <td>False</td>\n",
       "      <td>False</td>\n",
       "      <td>False</td>\n",
       "    </tr>\n",
       "    <tr>\n",
       "      <th>1</th>\n",
       "      <td>2019</td>\n",
       "      <td>ACC2</td>\n",
       "      <td>Moderate</td>\n",
       "      <td>Yes</td>\n",
       "      <td>6</td>\n",
       "      <td>22</td>\n",
       "      <td>1</td>\n",
       "      <td>Moderate</td>\n",
       "      <td>False</td>\n",
       "      <td>False</td>\n",
       "      <td>...</td>\n",
       "      <td>False</td>\n",
       "      <td>False</td>\n",
       "      <td>False</td>\n",
       "      <td>True</td>\n",
       "      <td>True</td>\n",
       "      <td>False</td>\n",
       "      <td>True</td>\n",
       "      <td>True</td>\n",
       "      <td>False</td>\n",
       "      <td>False</td>\n",
       "    </tr>\n",
       "    <tr>\n",
       "      <th>2</th>\n",
       "      <td>2020</td>\n",
       "      <td>ACC3</td>\n",
       "      <td>Minor</td>\n",
       "      <td>No</td>\n",
       "      <td>12</td>\n",
       "      <td>45</td>\n",
       "      <td>0</td>\n",
       "      <td>Minor</td>\n",
       "      <td>False</td>\n",
       "      <td>True</td>\n",
       "      <td>...</td>\n",
       "      <td>True</td>\n",
       "      <td>False</td>\n",
       "      <td>False</td>\n",
       "      <td>True</td>\n",
       "      <td>True</td>\n",
       "      <td>False</td>\n",
       "      <td>True</td>\n",
       "      <td>False</td>\n",
       "      <td>False</td>\n",
       "      <td>False</td>\n",
       "    </tr>\n",
       "    <tr>\n",
       "      <th>3</th>\n",
       "      <td>2022</td>\n",
       "      <td>ACC4</td>\n",
       "      <td>Severe</td>\n",
       "      <td>No</td>\n",
       "      <td>5</td>\n",
       "      <td>31</td>\n",
       "      <td>0</td>\n",
       "      <td>Severe</td>\n",
       "      <td>True</td>\n",
       "      <td>True</td>\n",
       "      <td>...</td>\n",
       "      <td>False</td>\n",
       "      <td>False</td>\n",
       "      <td>False</td>\n",
       "      <td>True</td>\n",
       "      <td>True</td>\n",
       "      <td>False</td>\n",
       "      <td>False</td>\n",
       "      <td>False</td>\n",
       "      <td>False</td>\n",
       "      <td>False</td>\n",
       "    </tr>\n",
       "    <tr>\n",
       "      <th>4</th>\n",
       "      <td>2018</td>\n",
       "      <td>ACC5</td>\n",
       "      <td>Moderate</td>\n",
       "      <td>No</td>\n",
       "      <td>13</td>\n",
       "      <td>22</td>\n",
       "      <td>0</td>\n",
       "      <td>Moderate</td>\n",
       "      <td>False</td>\n",
       "      <td>True</td>\n",
       "      <td>...</td>\n",
       "      <td>True</td>\n",
       "      <td>False</td>\n",
       "      <td>False</td>\n",
       "      <td>True</td>\n",
       "      <td>False</td>\n",
       "      <td>False</td>\n",
       "      <td>False</td>\n",
       "      <td>False</td>\n",
       "      <td>False</td>\n",
       "      <td>True</td>\n",
       "    </tr>\n",
       "  </tbody>\n",
       "</table>\n",
       "<p>5 rows × 23 columns</p>\n",
       "</div>"
      ],
      "text/plain": [
       "   Year Accident_ID Accident_Severity Helmet_Use  Injury_Severity_Score  \\\n",
       "0  2022        ACC1          Moderate        Yes                      2   \n",
       "1  2019        ACC2          Moderate        Yes                      6   \n",
       "2  2020        ACC3             Minor         No                     12   \n",
       "3  2022        ACC4            Severe         No                      5   \n",
       "4  2018        ACC5          Moderate         No                     13   \n",
       "\n",
       "   Age_of_Driver  Helmet_Use_Binary Accident_Severity_Cat  Country_Nigeria  \\\n",
       "0             50                  1              Moderate            False   \n",
       "1             22                  1              Moderate            False   \n",
       "2             45                  0                 Minor            False   \n",
       "3             31                  0                Severe             True   \n",
       "4             22                  0              Moderate            False   \n",
       "\n",
       "   Road_Type_Urban  ...  Time_of_Day_Evening  Time_of_Day_Morning  \\\n",
       "0             True  ...                False                False   \n",
       "1            False  ...                False                False   \n",
       "2             True  ...                 True                False   \n",
       "3             True  ...                False                False   \n",
       "4             True  ...                 True                False   \n",
       "\n",
       "   Time_of_Day_Night  Helmet_Law_Enforced_Yes  Traffic_Density_Low  \\\n",
       "0              False                     True                False   \n",
       "1              False                     True                 True   \n",
       "2              False                     True                 True   \n",
       "3              False                     True                 True   \n",
       "4              False                     True                False   \n",
       "\n",
       "   Traffic_Density_Medium  Alcohol_Involved_Yes  Speed_Limit_61-80 km/h  \\\n",
       "0                    True                 False                   False   \n",
       "1                   False                  True                    True   \n",
       "2                   False                  True                   False   \n",
       "3                   False                 False                   False   \n",
       "4                   False                 False                   False   \n",
       "\n",
       "   Speed_Limit_80+ km/h  Speed_Limit_<=40 km/h  \n",
       "0                 False                  False  \n",
       "1                 False                  False  \n",
       "2                 False                  False  \n",
       "3                 False                  False  \n",
       "4                 False                   True  \n",
       "\n",
       "[5 rows x 23 columns]"
      ]
     },
     "execution_count": 79,
     "metadata": {},
     "output_type": "execute_result"
    }
   ],
   "source": [
    "# Drop rows with missing critical values (if any)\n",
    "df_clean = df.dropna()\n",
    "\n",
    "# Remove whitespace from column names and string values\n",
    "df_clean.columns = df_clean.columns.str.strip()\n",
    "for col in df_clean.select_dtypes(include='object').columns:\n",
    "    df_clean[col] = df_clean[col].str.strip()\n",
    "\n",
    "# Check columns\n",
    "print('Columns:', df_clean.columns.tolist())\n",
    "\n",
    "# Encode Helmet_Use as binary (ensure correct column name)\n",
    "helmet_col = [col for col in df_clean.columns if 'Helmet_Use' in col][0]\n",
    "helmet_map = {'Yes': 1, 'No': 0}\n",
    "df_clean['Helmet_Use_Binary'] = df_clean[helmet_col].map(helmet_map)\n",
    "\n",
    "# Encode Accident_Severity as ordered categorical\n",
    "severity_order = ['Minor', 'Moderate', 'Severe', 'Fatal']\n",
    "severity_col = [col for col in df_clean.columns if 'Accident_Severity' in col][0]\n",
    "df_clean['Accident_Severity_Cat'] = pd.Categorical(df_clean[severity_col], categories=severity_order, ordered=True)\n",
    "\n",
    "# Encode other categorical variables as needed\n",
    "cat_cols = ['Road_Type', 'Weather_Condition', 'Time_of_Day', 'Helmet_Law_Enforced', 'Traffic_Density', 'Alcohol_Involved', 'Speed_Limit', 'Country']\n",
    "cat_cols = [col for col in df_clean.columns if any(base in col for base in cat_cols)]\n",
    "df_clean = pd.get_dummies(df_clean, columns=cat_cols, drop_first=True)\n",
    "\n",
    "df_clean.head()"
   ]
  },
  {
   "cell_type": "code",
   "execution_count": 80,
   "id": "e52bf8c5",
   "metadata": {},
   "outputs": [
    {
     "data": {
      "text/plain": [
       "Index(['Year', ' Country', ' Accident_ID', ' Accident_Severity', ' Helmet_Use',\n",
       "       ' Injury_Severity_Score', ' Road_Type', ' Weather_Condition',\n",
       "       ' Time_of_Day', ' Age_of_Driver', ' Helmet_Law_Enforced',\n",
       "       ' Traffic_Density', ' Alcohol_Involved', ' Speed_Limit'],\n",
       "      dtype='object')"
      ]
     },
     "execution_count": 80,
     "metadata": {},
     "output_type": "execute_result"
    }
   ],
   "source": [
    "df.columns"
   ]
  },
  {
   "cell_type": "markdown",
   "id": "b3c459ed",
   "metadata": {},
   "source": [
    "## 3. Exploratory Data Analysis: Helmet Use vs Accident Occurrence\n",
    "Visualize and summarize the distribution of helmet use among accident records."
   ]
  },
  {
   "cell_type": "code",
   "execution_count": 81,
   "id": "78907e8c",
   "metadata": {},
   "outputs": [
    {
     "data": {
      "image/png": "[encoded data removed]",
      "text/plain": [
       "<Figure size 600x400 with 1 Axes>"
      ]
     },
     "metadata": {},
     "output_type": "display_data"
    },
    {
     "data": {
      "image/png": "[encoded data removed]",
      "text/plain": [
       "<Figure size 700x400 with 1 Axes>"
      ]
     },
     "metadata": {},
     "output_type": "display_data"
    }
   ],
   "source": [
    "# Count and plot helmet use among accident records\n",
    "helmet_counts = df_clean['Helmet_Use_Binary'].value_counts().sort_index()\n",
    "labels = ['No Helmet', 'Helmet']\n",
    "plt.figure(figsize=(6,4))\n",
    "sns.barplot(x=labels, y=helmet_counts.values)\n",
    "plt.title('Helmet Use Among Accident Records')\n",
    "plt.ylabel('Number of Accidents')\n",
    "plt.show()\n",
    "\n",
    "# Display counts\n",
    "helmet_counts\n",
    "\n",
    "# Year-by-helmet use (use cleaned df and binary column). Guard if Year not present\n",
    "if 'Year' in df_clean.columns:\n",
    "    plt.figure(figsize=(7, 4))\n",
    "    ax = sns.lineplot(x='Year', y='Injury_Severity_Score', hue='Helmet_Use_Binary', data=df_clean, palette='Set2')\n",
    "    ax.set_title('Helmet Use by Year', fontsize=14)\n",
    "    plt.xlabel('Year', fontsize=12)\n",
    "    plt.ylabel('Injury Severity Score', fontsize=12)\n",
    "    # Replace legend labels 0/1 with readable labels\n",
    "    handles, _labels = ax.get_legend_handles_labels()\n",
    "    ax.legend(handles, ['No Helmet', 'Helmet'], title='Helmet Use')\n",
    "    plt.show()\n",
    "else:\n",
    "    print(\"Column 'Year' not found in cleaned dataframe; skipping Year plot.\")"
   ]
  },
  {
   "cell_type": "code",
   "execution_count": 82,
   "id": "9697152f",
   "metadata": {},
   "outputs": [
    {
     "name": "stderr",
     "output_type": "stream",
     "text": [
      "C:\\Users\\ADETUNJI\\AppData\\Local\\Temp\\ipykernel_23056\\3954761758.py:11: UserWarning: set_ticklabels() should only be used with a fixed number of ticks, i.e. after set_ticks() or using a FixedLocator.\n",
      "  axes[0, 0].set_xticklabels(['No', 'Yes'])\n"
     ]
    },
    {
     "data": {
      "image/png": "[encoded data removed]",
      "text/plain": [
       "<Figure size 1500x1000 with 4 Axes>"
      ]
     },
     "metadata": {},
     "output_type": "display_data"
    },
    {
     "name": "stdout",
     "output_type": "stream",
     "text": [
      "Helmet Use Percentage by Category:\n",
      "\n",
      "Helmet Law Enforced Yes:\n",
      "                         No Helmet  Helmet\n",
      "Helmet_Law_Enforced_Yes                   \n",
      "False                         50.7    49.3\n",
      "True                          43.0    57.0\n",
      "\n",
      "Traffic Category:\n",
      "                  No Helmet  Helmet\n",
      "Traffic_Category                   \n",
      "High                   47.3    52.7\n",
      "Low                    45.0    55.0\n",
      "Medium                 44.6    55.4\n",
      "\n",
      "Weather Category:\n",
      "                  No Helmet  Helmet\n",
      "Weather_Category                   \n",
      "Clear                  46.0    54.0\n",
      "Cloudy                 51.1    48.9\n",
      "Foggy                  38.6    61.4\n",
      "Rainy                  43.8    56.2\n",
      "\n",
      "Time Category:\n",
      "               No Helmet  Helmet\n",
      "Time_Category                   \n",
      "Afternoon           46.1    53.9\n",
      "Evening             46.5    53.5\n",
      "Morning             43.6    56.4\n",
      "Night               44.8    55.2\n"
     ]
    }
   ],
   "source": [
    "# Create visualizations for helmet use by key categorical variables\n",
    "fig, axes = plt.subplots(2, 2, figsize=(15, 10))\n",
    "fig.suptitle('Helmet Use by Various Factors', fontsize=16)\n",
    "\n",
    "# Helmet Law Enforcement vs Helmet Use\n",
    "sns.countplot(x='Helmet_Law_Enforced_Yes', hue='Helmet_Use_Binary', \n",
    "              data=df_clean, palette='Set2', ax=axes[0, 0])\n",
    "axes[0, 0].set_title('Helmet Use by Law Enforcement')\n",
    "axes[0, 0].set_xlabel('Helmet Law Enforced')\n",
    "axes[0, 0].set_ylabel('Count')\n",
    "axes[0, 0].set_xticklabels(['No', 'Yes'])\n",
    "axes[0, 0].legend(title='Helmet Use', labels=['No Helmet', 'Helmet'])\n",
    "\n",
    "# Traffic Density vs Helmet Use\n",
    "# Create friendly labels for visualization\n",
    "traffic_map = {\n",
    "    'Traffic_Density_Low': 'Low',\n",
    "    'Traffic_Density_Medium': 'Medium',\n",
    "    False: 'High'  # If both Low and Medium are False, it's High\n",
    "}\n",
    "\n",
    "df_clean['Traffic_Category'] = 'High'  # Default\n",
    "df_clean.loc[df_clean['Traffic_Density_Low'], 'Traffic_Category'] = 'Low'\n",
    "df_clean.loc[df_clean['Traffic_Density_Medium'], 'Traffic_Category'] = 'Medium'\n",
    "\n",
    "sns.countplot(x='Traffic_Category', hue='Helmet_Use_Binary', \n",
    "              data=df_clean, palette='Set2', ax=axes[0, 1])\n",
    "axes[0, 1].set_title('Helmet Use by Traffic Density')\n",
    "axes[0, 1].set_xlabel('Traffic Density')\n",
    "axes[0, 1].legend(title='Helmet Use', labels=['No Helmet', 'Helmet'])\n",
    "\n",
    "# Weather Condition vs Helmet Use\n",
    "# Create a weather condition category column\n",
    "df_clean['Weather_Category'] = 'Clear'  # Default\n",
    "df_clean.loc[df_clean['Weather_Condition_Rainy'], 'Weather_Category'] = 'Rainy'\n",
    "df_clean.loc[df_clean['Weather_Condition_Foggy'], 'Weather_Category'] = 'Foggy'\n",
    "df_clean.loc[df_clean['Weather_Condition_Cloudy'], 'Weather_Category'] = 'Cloudy'\n",
    "\n",
    "sns.countplot(x='Weather_Category', hue='Helmet_Use_Binary', \n",
    "              data=df_clean, palette='Set2', ax=axes[1, 0])\n",
    "axes[1, 0].set_title('Helmet Use by Weather Condition')\n",
    "axes[1, 0].set_xlabel('Weather')\n",
    "axes[1, 0].legend(title='Helmet Use', labels=['No Helmet', 'Helmet'])\n",
    "\n",
    "# Time of Day vs Helmet Use\n",
    "# Create a time of day category column\n",
    "df_clean['Time_Category'] = 'Afternoon'  # Default\n",
    "df_clean.loc[df_clean['Time_of_Day_Morning'], 'Time_Category'] = 'Morning'\n",
    "df_clean.loc[df_clean['Time_of_Day_Evening'], 'Time_Category'] = 'Evening'\n",
    "df_clean.loc[df_clean['Time_of_Day_Night'], 'Time_Category'] = 'Night'\n",
    "\n",
    "sns.countplot(x='Time_Category', hue='Helmet_Use_Binary', \n",
    "              data=df_clean, palette='Set2', ax=axes[1, 1])\n",
    "axes[1, 1].set_title('Helmet Use by Time of Day')\n",
    "axes[1, 1].set_xlabel('Time of Day')\n",
    "axes[1, 1].legend(title='Helmet Use', labels=['No Helmet', 'Helmet'])\n",
    "\n",
    "plt.tight_layout(rect=[0, 0, 1, 0.95])\n",
    "plt.show()\n",
    "\n",
    "# Calculate percentages of helmet use for each category\n",
    "print(\"Helmet Use Percentage by Category:\")\n",
    "for category in ['Helmet_Law_Enforced_Yes', 'Traffic_Category', 'Weather_Category', 'Time_Category']:\n",
    "    print(f\"\\n{category.replace('_', ' ')}:\")\n",
    "    helmet_pct = pd.crosstab(df_clean[category], df_clean['Helmet_Use_Binary'], \n",
    "                            normalize='index') * 100\n",
    "    helmet_pct.columns = ['No Helmet', 'Helmet']\n",
    "    print(helmet_pct.round(1))"
   ]
  },
  {
   "cell_type": "code",
   "execution_count": 83,
   "id": "4803387b",
   "metadata": {},
   "outputs": [
    {
     "data": {
      "image/png": "[encoded data removed]",
      "text/plain": [
       "<Figure size 700x400 with 1 Axes>"
      ]
     },
     "metadata": {},
     "output_type": "display_data"
    },
    {
     "name": "stdout",
     "output_type": "stream",
     "text": [
      "Helmet Use Counts by Country:\n",
      "helmet_use  Helmet  No Helmet\n",
      "country                      \n",
      "Liberia        142        104\n",
      "Nigeria        132        122\n",
      "\n",
      "Percentage of Helmet Use by Country:\n",
      "helmet_use  Helmet  No Helmet\n",
      "country                      \n",
      "Liberia       57.7       42.3\n",
      "Nigeria       52.0       48.0\n"
     ]
    }
   ],
   "source": [
    "# Create a visualization-friendly dataframe with mapped country and helmet use values\n",
    "\n",
    "viz_df = pd.DataFrame({\n",
    "    'country': ['Nigeria' if x else 'Liberia' for x in df_clean['Country_Nigeria']],\n",
    "    'helmet_use': ['Helmet' if x else 'No Helmet' for x in df_clean['Helmet_Use_Binary']]\n",
    "})\n",
    "\n",
    "\n",
    "plt.figure(figsize=(7, 4))\n",
    "ax = sns.countplot(x='country', hue='helmet_use', data=viz_df, palette='Set2')\n",
    "ax.set_title('Helmet Use Distribution by Country', fontsize=14)\n",
    "plt.xlabel('Country', fontsize=12)\n",
    "plt.ylabel('Count', fontsize=12)\n",
    "plt.legend(title='Helmet Use')\n",
    "plt.show()\n",
    "\n",
    "# Calculate helmet use statistics by country\n",
    "helmet_counts = pd.crosstab(viz_df['country'], viz_df['helmet_use'])\n",
    "print(\"Helmet Use Counts by Country:\")\n",
    "print(helmet_counts)\n",
    "\n",
    "helmet_pct = pd.crosstab(viz_df['country'], viz_df['helmet_use'], normalize='index') * 100\n",
    "print(\"\\nPercentage of Helmet Use by Country:\")\n",
    "print(helmet_pct.round(1))"
   ]
  },
  {
   "cell_type": "markdown",
   "id": "550e7ade",
   "metadata": {},
   "source": [
    "## 4. Exploratory Data Analysis: Accident Severity by Helmet Use\n",
    "Analyze accident severity (Minor, Moderate, Severe, Fatal) grouped by helmet use. Use cross-tabulation and visualization."
   ]
  },
  {
   "cell_type": "code",
   "execution_count": 84,
   "id": "882ef4a9",
   "metadata": {},
   "outputs": [
    {
     "data": {
      "application/vnd.microsoft.datawrangler.viewer.v0+json": {
       "columns": [
        {
         "name": "Accident_Severity_Cat",
         "rawType": "category",
         "type": "unknown"
        },
        {
         "name": "0",
         "rawType": "int64",
         "type": "integer"
        },
        {
         "name": "1",
         "rawType": "int64",
         "type": "integer"
        }
       ],
       "ref": "897b3d54-4532-49c3-89dd-c49da7f14004",
       "rows": [
        [
         "Minor",
         "100",
         "114"
        ],
        [
         "Moderate",
         "75",
         "77"
        ],
        [
         "Severe",
         "31",
         "58"
        ],
        [
         "Fatal",
         "20",
         "25"
        ]
       ],
       "shape": {
        "columns": 2,
        "rows": 4
       }
      },
      "text/html": [
       "<div>\n",
       "<style scoped>\n",
       "    .dataframe tbody tr th:only-of-type {\n",
       "        vertical-align: middle;\n",
       "    }\n",
       "\n",
       "    .dataframe tbody tr th {\n",
       "        vertical-align: top;\n",
       "    }\n",
       "\n",
       "    .dataframe thead th {\n",
       "        text-align: right;\n",
       "    }\n",
       "</style>\n",
       "<table border=\"1\" class=\"dataframe\">\n",
       "  <thead>\n",
       "    <tr style=\"text-align: right;\">\n",
       "      <th>Helmet_Use_Binary</th>\n",
       "      <th>0</th>\n",
       "      <th>1</th>\n",
       "    </tr>\n",
       "    <tr>\n",
       "      <th>Accident_Severity_Cat</th>\n",
       "      <th></th>\n",
       "      <th></th>\n",
       "    </tr>\n",
       "  </thead>\n",
       "  <tbody>\n",
       "    <tr>\n",
       "      <th>Minor</th>\n",
       "      <td>100</td>\n",
       "      <td>114</td>\n",
       "    </tr>\n",
       "    <tr>\n",
       "      <th>Moderate</th>\n",
       "      <td>75</td>\n",
       "      <td>77</td>\n",
       "    </tr>\n",
       "    <tr>\n",
       "      <th>Severe</th>\n",
       "      <td>31</td>\n",
       "      <td>58</td>\n",
       "    </tr>\n",
       "    <tr>\n",
       "      <th>Fatal</th>\n",
       "      <td>20</td>\n",
       "      <td>25</td>\n",
       "    </tr>\n",
       "  </tbody>\n",
       "</table>\n",
       "</div>"
      ],
      "text/plain": [
       "Helmet_Use_Binary        0    1\n",
       "Accident_Severity_Cat          \n",
       "Minor                  100  114\n",
       "Moderate                75   77\n",
       "Severe                  31   58\n",
       "Fatal                   20   25"
      ]
     },
     "execution_count": 84,
     "metadata": {},
     "output_type": "execute_result"
    }
   ],
   "source": [
    "pd.crosstab(df_clean['Accident_Severity_Cat'], df_clean['Helmet_Use_Binary'])"
   ]
  },
  {
   "cell_type": "code",
   "execution_count": 85,
   "id": "512002be",
   "metadata": {},
   "outputs": [
    {
     "data": {
      "image/png": "[encoded data removed]",
      "text/plain": [
       "<Figure size 800x500 with 1 Axes>"
      ]
     },
     "metadata": {},
     "output_type": "display_data"
    },
    {
     "data": {
      "application/vnd.microsoft.datawrangler.viewer.v0+json": {
       "columns": [
        {
         "name": "Accident_Severity_Cat",
         "rawType": "category",
         "type": "unknown"
        },
        {
         "name": "No Helmet",
         "rawType": "int64",
         "type": "integer"
        },
        {
         "name": "Helmet",
         "rawType": "int64",
         "type": "integer"
        }
       ],
       "ref": "27b66697-a85e-4495-9378-d7cba01aab6f",
       "rows": [
        [
         "Minor",
         "100",
         "114"
        ],
        [
         "Moderate",
         "75",
         "77"
        ],
        [
         "Severe",
         "31",
         "58"
        ],
        [
         "Fatal",
         "20",
         "25"
        ]
       ],
       "shape": {
        "columns": 2,
        "rows": 4
       }
      },
      "text/html": [
       "<div>\n",
       "<style scoped>\n",
       "    .dataframe tbody tr th:only-of-type {\n",
       "        vertical-align: middle;\n",
       "    }\n",
       "\n",
       "    .dataframe tbody tr th {\n",
       "        vertical-align: top;\n",
       "    }\n",
       "\n",
       "    .dataframe thead th {\n",
       "        text-align: right;\n",
       "    }\n",
       "</style>\n",
       "<table border=\"1\" class=\"dataframe\">\n",
       "  <thead>\n",
       "    <tr style=\"text-align: right;\">\n",
       "      <th></th>\n",
       "      <th>No Helmet</th>\n",
       "      <th>Helmet</th>\n",
       "    </tr>\n",
       "    <tr>\n",
       "      <th>Accident_Severity_Cat</th>\n",
       "      <th></th>\n",
       "      <th></th>\n",
       "    </tr>\n",
       "  </thead>\n",
       "  <tbody>\n",
       "    <tr>\n",
       "      <th>Minor</th>\n",
       "      <td>100</td>\n",
       "      <td>114</td>\n",
       "    </tr>\n",
       "    <tr>\n",
       "      <th>Moderate</th>\n",
       "      <td>75</td>\n",
       "      <td>77</td>\n",
       "    </tr>\n",
       "    <tr>\n",
       "      <th>Severe</th>\n",
       "      <td>31</td>\n",
       "      <td>58</td>\n",
       "    </tr>\n",
       "    <tr>\n",
       "      <th>Fatal</th>\n",
       "      <td>20</td>\n",
       "      <td>25</td>\n",
       "    </tr>\n",
       "  </tbody>\n",
       "</table>\n",
       "</div>"
      ],
      "text/plain": [
       "                       No Helmet  Helmet\n",
       "Accident_Severity_Cat                   \n",
       "Minor                        100     114\n",
       "Moderate                      75      77\n",
       "Severe                        31      58\n",
       "Fatal                         20      25"
      ]
     },
     "execution_count": 85,
     "metadata": {},
     "output_type": "execute_result"
    }
   ],
   "source": [
    "# Cross-tabulation of accident severity by helmet use\n",
    "severity_helmet_ct = pd.crosstab(df_clean['Accident_Severity_Cat'], df_clean['Helmet_Use_Binary'])\n",
    "severity_helmet_ct.columns = ['No Helmet', 'Helmet']\n",
    "severity_helmet_ct.plot(kind='bar' , figsize=(8,5))\n",
    "plt.title('People Using Helmets Experience More Accidents')\n",
    "plt.ylabel('Number of Accidents')\n",
    "plt.xlabel('Accident Severity')\n",
    "plt.show()\n",
    "\n",
    "# Display table\n",
    "severity_helmet_ct"
   ]
  },
  {
   "cell_type": "markdown",
   "id": "e4c7b1a3",
   "metadata": {},
   "source": [
    "## 5. Exploratory Data Analysis: Feature Relationships\n",
    "Explore relationships between helmet use and other features (age, road type, weather, etc.) using correlation, groupby, and plots."
   ]
  },
  {
   "cell_type": "code",
   "execution_count": 86,
   "id": "8c2c0946",
   "metadata": {},
   "outputs": [
    {
     "data": {
      "image/png": "[encoded data removed]",
      "text/plain": [
       "<Figure size 1000x400 with 1 Axes>"
      ]
     },
     "metadata": {},
     "output_type": "display_data"
    },
    {
     "data": {
      "image/png": "[encoded data removed]",
      "text/plain": [
       "<Figure size 1200x800 with 2 Axes>"
      ]
     },
     "metadata": {},
     "output_type": "display_data"
    }
   ],
   "source": [
    "\n",
    "\n",
    "plt.figure(figsize=(10,4))\n",
    "sns.boxplot(x='Helmet_Use_Binary', y='Injury_Severity_Score', data=df_clean)\n",
    "plt.title('Injury Severity Score by Helmet Use')\n",
    "plt.xlabel('Helmet Use (0=No, 1=Yes)')\n",
    "plt.show()\n",
    "\n",
    "# Correlation matrix for numeric features\n",
    "numeric_df = df_clean.select_dtypes(include=[np.number])\n",
    "corr = numeric_df.corr()\n",
    "plt.figure(figsize=(12,8))\n",
    "sns.heatmap(corr, annot=True, fmt='.2f', cmap='coolwarm')\n",
    "plt.title('Correlation Matrix')\n",
    "plt.show()"
   ]
  },
  {
   "cell_type": "markdown",
   "id": "61e84002",
   "metadata": {},
   "source": [
    "## 6. Feature Engineering\n",
    "Create new features if needed and select relevant features for modeling. Our target variable for prediction will be helmet use before the accident."
   ]
  },
  {
   "cell_type": "code",
   "execution_count": 87,
   "id": "d24a6faa",
   "metadata": {},
   "outputs": [
    {
     "data": {
      "text/plain": [
       "(   Age_of_Driver  Injury_Severity_Score  Country_Nigeria  Road_Type_Urban  \\\n",
       " 0             50                      2            False             True   \n",
       " 1             22                      6            False            False   \n",
       " 2             45                     12            False             True   \n",
       " 3             31                      5             True             True   \n",
       " 4             22                     13            False             True   \n",
       " \n",
       "    Weather_Condition_Cloudy  Weather_Condition_Foggy  Weather_Condition_Rainy  \\\n",
       " 0                     False                    False                     True   \n",
       " 1                     False                    False                     True   \n",
       " 2                     False                    False                     True   \n",
       " 3                     False                    False                    False   \n",
       " 4                     False                    False                     True   \n",
       " \n",
       "    Time_of_Day_Evening  Time_of_Day_Morning  Time_of_Day_Night  \\\n",
       " 0                False                False              False   \n",
       " 1                False                False              False   \n",
       " 2                 True                False              False   \n",
       " 3                False                False              False   \n",
       " 4                 True                False              False   \n",
       " \n",
       "    Helmet_Law_Enforced_Yes  Traffic_Density_Low  Traffic_Density_Medium  \\\n",
       " 0                     True                False                    True   \n",
       " 1                     True                 True                   False   \n",
       " 2                     True                 True                   False   \n",
       " 3                     True                 True                   False   \n",
       " 4                     True                False                   False   \n",
       " \n",
       "    Alcohol_Involved_Yes  Speed_Limit_61-80 km/h  Speed_Limit_80+ km/h  \\\n",
       " 0                 False                   False                 False   \n",
       " 1                  True                    True                 False   \n",
       " 2                  True                   False                 False   \n",
       " 3                 False                   False                 False   \n",
       " 4                 False                   False                 False   \n",
       " \n",
       "    Speed_Limit_<=40 km/h  \n",
       " 0                  False  \n",
       " 1                  False  \n",
       " 2                  False  \n",
       " 3                  False  \n",
       " 4                   True  ,\n",
       " 0    1\n",
       " 1    1\n",
       " 2    0\n",
       " 3    0\n",
       " 4    0\n",
       " Name: Helmet_Use_Binary, dtype: int64)"
      ]
     },
     "execution_count": 87,
     "metadata": {},
     "output_type": "execute_result"
    }
   ],
   "source": [
    "# Set helmet use as the target variable for prediction\n",
    "target = 'Helmet_Use_Binary'\n",
    "features = [\n",
    "    'Age_of_Driver', 'Injury_Severity_Score',\n",
    "    # Add other relevant features for prediction\n",
    "    # Exclude helmet use itself from features\n",
    "    # Include encoded categorical features\n",
    "    # ...\n",
    "    # All columns except target and identifiers\n",
    "    # You may want to exclude columns like 'Accident_Severity_Cat', 'SevereOrFatal', etc.\n",
    "    # Example:\n",
    "    # [col for col in df_clean.columns if col not in [target, 'Accident_Severity_Cat', 'SevereOrFatal']]\n",
    "    # For now, include all except target and identifiers\n",
    "] + [col for col in df_clean.columns if col.startswith(('Road_Type_', 'Weather_Condition_', 'Time_of_Day_', 'Helmet_Law_Enforced_', 'Traffic_Density_', 'Alcohol_Involved_', 'Speed_Limit_', 'Country_'))]\n",
    "\n",
    "X = df_clean[features]\n",
    "y = df_clean[target]\n",
    "\n",
    "X.head(), y.head()"
   ]
  },
  {
   "cell_type": "markdown",
   "id": "ae7cec7a",
   "metadata": {},
   "source": [
    "## 7. Train/Test Split\n",
    "Split the data into training and test sets for machine learning analysis. The target variable is helmet use before the accident."
   ]
  },
  {
   "cell_type": "code",
   "execution_count": 88,
   "id": "c4d09b14",
   "metadata": {},
   "outputs": [
    {
     "name": "stdout",
     "output_type": "stream",
     "text": [
      "Train set size: (400, 17)\n",
      "Test set size: (100, 17)\n"
     ]
    }
   ],
   "source": [
    "from sklearn.model_selection import train_test_split\n",
    "\n",
    "X_train, X_test, y_train, y_test = train_test_split(X, y, test_size=0.2, random_state=42, stratify=y)\n",
    "\n",
    "print('Train set size:', X_train.shape)\n",
    "print('Test set size:', X_test.shape)"
   ]
  },
  {
   "cell_type": "markdown",
   "id": "ba0d6ed6",
   "metadata": {},
   "source": [
    "## 8. Model Selection and Training\n",
    "Choose appropriate ML algorithms (e.g., logistic regression, decision tree, random forest) to predict helmet use before the accident. Train models."
   ]
  },
  {
   "cell_type": "code",
   "execution_count": 89,
   "id": "4af802de",
   "metadata": {},
   "outputs": [
    {
     "name": "stdout",
     "output_type": "stream",
     "text": [
      "Models trained to predict helmet use before accident: Logistic Regression, Decision Tree, Random Forest\n"
     ]
    }
   ],
   "source": [
    "from sklearn.linear_model import LogisticRegression\n",
    "from sklearn.tree import DecisionTreeClassifier\n",
    "from sklearn.ensemble import RandomForestClassifier\n",
    "\n",
    "# Logistic Regression\n",
    "logreg = LogisticRegression(max_iter=1000)\n",
    "logreg.fit(X_train, y_train)\n",
    "\n",
    "# Decision Tree\n",
    "dtree = DecisionTreeClassifier(random_state=42)\n",
    "dtree.fit(X_train, y_train)\n",
    "\n",
    "# Random Forest\n",
    "rf = RandomForestClassifier(n_estimators=100, random_state=42)\n",
    "rf.fit(X_train, y_train)\n",
    "\n",
    "print('Models trained to predict helmet use before accident: Logistic Regression, Decision Tree, Random Forest')"
   ]
  },
  {
   "cell_type": "markdown",
   "id": "8b9a0fd9",
   "metadata": {},
   "source": [
    "## 9. Model Evaluation and Important Metric Identification\n",
    "Evaluate models using metrics such as accuracy, precision, recall, and especially recall (to reduce missed cases of riders not wearing helmets)."
   ]
  },
  {
   "cell_type": "code",
   "execution_count": 90,
   "id": "89642276",
   "metadata": {},
   "outputs": [
    {
     "data": {
      "application/vnd.microsoft.datawrangler.viewer.v0+json": {
       "columns": [
        {
         "name": "index",
         "rawType": "object",
         "type": "string"
        },
        {
         "name": "Logistic Regression",
         "rawType": "float64",
         "type": "float"
        },
        {
         "name": "Decision Tree",
         "rawType": "float64",
         "type": "float"
        },
        {
         "name": "Random Forest",
         "rawType": "float64",
         "type": "float"
        }
       ],
       "ref": "a1b4b082-bfae-44e1-a801-03715abdee23",
       "rows": [
        [
         "Accuracy",
         "0.5",
         "0.43",
         "0.48"
        ],
        [
         "Precision",
         "0.5362318840579711",
         "0.48148148148148145",
         "0.5272727272727272"
        ],
        [
         "Recall",
         "0.6727272727272727",
         "0.4727272727272727",
         "0.5272727272727272"
        ],
        [
         "F1",
         "0.5967741935483871",
         "0.47706422018348627",
         "0.5272727272727272"
        ],
        [
         "ROC_AUC",
         "0.5208080808080808",
         "0.4252525252525252",
         "0.4670707070707071"
        ]
       ],
       "shape": {
        "columns": 3,
        "rows": 5
       }
      },
      "text/html": [
       "<div>\n",
       "<style scoped>\n",
       "    .dataframe tbody tr th:only-of-type {\n",
       "        vertical-align: middle;\n",
       "    }\n",
       "\n",
       "    .dataframe tbody tr th {\n",
       "        vertical-align: top;\n",
       "    }\n",
       "\n",
       "    .dataframe thead th {\n",
       "        text-align: right;\n",
       "    }\n",
       "</style>\n",
       "<table border=\"1\" class=\"dataframe\">\n",
       "  <thead>\n",
       "    <tr style=\"text-align: right;\">\n",
       "      <th></th>\n",
       "      <th>Logistic Regression</th>\n",
       "      <th>Decision Tree</th>\n",
       "      <th>Random Forest</th>\n",
       "    </tr>\n",
       "  </thead>\n",
       "  <tbody>\n",
       "    <tr>\n",
       "      <th>Accuracy</th>\n",
       "      <td>0.500000</td>\n",
       "      <td>0.430000</td>\n",
       "      <td>0.480000</td>\n",
       "    </tr>\n",
       "    <tr>\n",
       "      <th>Precision</th>\n",
       "      <td>0.536232</td>\n",
       "      <td>0.481481</td>\n",
       "      <td>0.527273</td>\n",
       "    </tr>\n",
       "    <tr>\n",
       "      <th>Recall</th>\n",
       "      <td>0.672727</td>\n",
       "      <td>0.472727</td>\n",
       "      <td>0.527273</td>\n",
       "    </tr>\n",
       "    <tr>\n",
       "      <th>F1</th>\n",
       "      <td>0.596774</td>\n",
       "      <td>0.477064</td>\n",
       "      <td>0.527273</td>\n",
       "    </tr>\n",
       "    <tr>\n",
       "      <th>ROC_AUC</th>\n",
       "      <td>0.520808</td>\n",
       "      <td>0.425253</td>\n",
       "      <td>0.467071</td>\n",
       "    </tr>\n",
       "  </tbody>\n",
       "</table>\n",
       "</div>"
      ],
      "text/plain": [
       "           Logistic Regression  Decision Tree  Random Forest\n",
       "Accuracy              0.500000       0.430000       0.480000\n",
       "Precision             0.536232       0.481481       0.527273\n",
       "Recall                0.672727       0.472727       0.527273\n",
       "F1                    0.596774       0.477064       0.527273\n",
       "ROC_AUC               0.520808       0.425253       0.467071"
      ]
     },
     "execution_count": 90,
     "metadata": {},
     "output_type": "execute_result"
    }
   ],
   "source": [
    "from sklearn.metrics import accuracy_score, precision_score, recall_score, f1_score, confusion_matrix, roc_auc_score\n",
    "\n",
    "def evaluate_model(model, X_test, y_test):\n",
    "    y_pred = model.predict(X_test)\n",
    "    acc = accuracy_score(y_test, y_pred)\n",
    "    prec = precision_score(y_test, y_pred)\n",
    "    rec = recall_score(y_test, y_pred)\n",
    "    f1 = f1_score(y_test, y_pred)\n",
    "    auc = roc_auc_score(y_test, model.predict_proba(X_test)[:,1]) if hasattr(model, 'predict_proba') else None\n",
    "    return {'Accuracy': acc, 'Precision': prec, 'Recall': rec, 'F1': f1, 'ROC_AUC': auc}\n",
    "\n",
    "results = {\n",
    "    'Logistic Regression': evaluate_model(logreg, X_test, y_test),\n",
    "    'Decision Tree': evaluate_model(dtree, X_test, y_test),\n",
    "    'Random Forest': evaluate_model(rf, X_test, y_test)\n",
    "}\n",
    "\n",
    "results_df = pd.DataFrame(results).T\n",
    "results_df.transpose()\n",
    "\n",
    "# Highlight recall as the most important metric for identifying riders not wearing helmets"
   ]
  },
  {
   "cell_type": "markdown",
   "id": "360758ed",
   "metadata": {},
   "source": [
    "## 10. Model Validation\n",
    "Validate model results using cross-validation or test set performance. Display confusion matrix and ROC curve for helmet use prediction."
   ]
  },
  {
   "cell_type": "code",
   "execution_count": 91,
   "id": "5e1b070b",
   "metadata": {},
   "outputs": [
    {
     "name": "stdout",
     "output_type": "stream",
     "text": [
      "Cross-validated Precision scores: [0.53333333 0.47457627 0.54411765 0.53571429 0.52380952]\n",
      "Mean Precision: 0.5223102122204814\n"
     ]
    },
    {
     "data": {
      "image/png": "[encoded data removed]",
      "text/plain": [
       "<Figure size 640x480 with 2 Axes>"
      ]
     },
     "metadata": {},
     "output_type": "display_data"
    },
    {
     "data": {
      "image/png": "[encoded data removed]",
      "text/plain": [
       "<Figure size 640x480 with 1 Axes>"
      ]
     },
     "metadata": {},
     "output_type": "display_data"
    }
   ],
   "source": [
    "from sklearn.model_selection import cross_val_score\n",
    "from sklearn.metrics import ConfusionMatrixDisplay, roc_curve, auc\n",
    "\n",
    "# Cross-validation for precision\n",
    "cv_precision = cross_val_score(rf, X, y, cv=5, scoring='precision')\n",
    "print('Cross-validated Precision scores:', cv_precision)\n",
    "print('Mean Precision:', np.mean(cv_precision))\n",
    "\n",
    "# Confusion matrix\n",
    "ConfusionMatrixDisplay.from_estimator(rf, X_test, y_test)\n",
    "plt.title('Confusion Matrix for Helmet Use Prediction')\n",
    "plt.show()\n",
    "\n",
    "# ROC curve\n",
    "y_proba = rf.predict_proba(X_test)[:,1]\n",
    "fpr, tpr, thresholds = roc_curve(y_test, y_proba)\n",
    "roc_auc = auc(fpr, tpr)\n",
    "plt.figure()\n",
    "plt.plot(fpr, tpr, label=f'ROC curve (area = {roc_auc:.2f})')\n",
    "plt.plot([0, 1], [0, 1], 'k--')\n",
    "plt.xlabel('False Positive Rate')\n",
    "plt.ylabel('True Positive Rate')\n",
    "plt.title('ROC Curve for Helmet Use Prediction')\n",
    "plt.legend(loc='lower right')\n",
    "plt.show()"
   ]
  },
  {
   "cell_type": "markdown",
   "id": "0a062e91",
   "metadata": {},
   "source": [
    "## Importance of Precision in Predicting Helmet Use\n",
    "Precision measures the proportion of riders predicted to be wearing helmets who actually were wearing helmets before the accident. High precision means fewer false positives—so when the model predicts helmet use, it is likely correct. This is important if interventions or policies are targeted based on predicted helmet use, as it avoids misclassifying non-helmeted riders as helmeted.\n",
    "\n",
    "## Model Validation\n",
    "To validate the model, we use cross-validation to assess its generalizability. We also examine the confusion matrix and ROC curve to understand the model's performance in distinguishing helmeted from non-helmeted riders."
   ]
  },
  {
   "cell_type": "markdown",
   "id": "d280a196",
   "metadata": {},
   "source": [
    "## Justification of Modeling Decisions and Results\n",
    "**Model Choice:** Multiple algorithms (Logistic Regression, Decision Tree, Random Forest) were selected to provide a robust comparison and to capture both linear and non-linear relationships in the data. Random Forest was emphasized for its ability to handle complex feature interactions and its strong performance in classification tasks.\n",
    "\n",
    "**Feature Selection:** Features were chosen based on exploratory analysis, focusing on variables likely to influence helmet use (e.g., age, injury severity, road type, weather, time of day, law enforcement, traffic, alcohol involvement, speed limit, country). Helmet use itself was excluded from predictors to avoid data leakage.\n",
    "\n",
    "**Metric Selection:** Precision and recall were prioritized. Precision is important to avoid falsely classifying non-helmeted riders as helmeted, which is critical for targeted interventions. Recall ensures that most helmeted riders are correctly identified, reducing missed cases.\n",
    "\n",
    "**Validation:** Results are validated using cross-validation, confusion matrix, and ROC curve. Cross-validation ensures the model generalizes well to unseen data. The confusion matrix provides insight into true/false positives and negatives, while the ROC curve assesses the model's ability to distinguish helmeted from non-helmeted riders.\n",
    "\n",
    "**Interpretation:** High precision and recall indicate reliable predictions. If the model achieves strong scores in both metrics, it can be confidently used for policy or intervention planning. Feature importance from Random Forest can further guide which factors most influence helmet use."
   ]
  }
 ],
 "metadata": {
  "kernelspec": {
   "display_name": "credit-prediction (3.12.10)",
   "language": "python",
   "name": "python3"
  },
  "language_info": {
   "codemirror_mode": {
    "name": "ipython",
    "version": 3
   },
   "file_extension": ".py",
   "mimetype": "text/x-python",
   "name": "python",
   "nbconvert_exporter": "python",
   "pygments_lexer": "ipython3",
   "version": "3.12.10"
  }
 },
 "nbformat": 4,
 "nbformat_minor": 5
}
