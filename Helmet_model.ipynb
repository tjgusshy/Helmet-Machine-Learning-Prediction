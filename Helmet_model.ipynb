{
 "cells": [
  {
   "cell_type": "code",
   "execution_count": 240,
   "id": "927c2663",
   "metadata": {},
   "outputs": [
    {
     "data": {
      "application/vnd.microsoft.datawrangler.viewer.v0+json": {
       "columns": [
        {
         "name": "index",
         "rawType": "int64",
         "type": "integer"
        },
        {
         "name": "Year",
         "rawType": "int64",
         "type": "integer"
        },
        {
         "name": " Country",
         "rawType": "object",
         "type": "string"
        },
        {
         "name": " Accident_ID",
         "rawType": "object",
         "type": "string"
        },
        {
         "name": " Accident_Severity",
         "rawType": "object",
         "type": "string"
        },
        {
         "name": " Helmet_Use",
         "rawType": "object",
         "type": "string"
        },
        {
         "name": " Injury_Severity_Score",
         "rawType": "int64",
         "type": "integer"
        },
        {
         "name": " Road_Type",
         "rawType": "object",
         "type": "string"
        },
        {
         "name": " Weather_Condition",
         "rawType": "object",
         "type": "string"
        },
        {
         "name": " Time_of_Day",
         "rawType": "object",
         "type": "string"
        },
        {
         "name": " Age_of_Driver",
         "rawType": "int64",
         "type": "integer"
        },
        {
         "name": " Helmet_Law_Enforced",
         "rawType": "object",
         "type": "string"
        },
        {
         "name": " Traffic_Density",
         "rawType": "object",
         "type": "string"
        },
        {
         "name": " Alcohol_Involved",
         "rawType": "object",
         "type": "string"
        },
        {
         "name": " Speed_Limit",
         "rawType": "object",
         "type": "string"
        }
       ],
       "ref": "da8b7651-00fb-4065-ba55-21687c3132d3",
       "rows": [
        [
         "0",
         "2022",
         " Liberia",
         " ACC1       ",
         " Moderate         ",
         " Yes       ",
         "2",
         " Urban    ",
         " Rainy            ",
         " Afternoon  ",
         "50",
         " Yes                ",
         " Medium         ",
         " No              ",
         " 41-60 km/h"
        ],
        [
         "1",
         "2019",
         " Liberia",
         " ACC2       ",
         " Moderate         ",
         " Yes       ",
         "6",
         " Rural    ",
         " Rainy            ",
         " Afternoon  ",
         "22",
         " Yes                ",
         " Low            ",
         " Yes             ",
         " 61-80 km/h"
        ],
        [
         "2",
         "2020",
         " Liberia",
         " ACC3       ",
         " Minor            ",
         " No        ",
         "12",
         " Urban    ",
         " Rainy            ",
         " Evening    ",
         "45",
         " Yes                ",
         " Low            ",
         " Yes             ",
         " 41-60 km/h"
        ],
        [
         "3",
         "2022",
         " Nigeria",
         " ACC4       ",
         " Severe           ",
         " No        ",
         "5",
         " Urban    ",
         " Clear            ",
         " Afternoon  ",
         "31",
         " Yes                ",
         " Low            ",
         " No              ",
         " 41-60 km/h"
        ],
        [
         "4",
         "2018",
         " Liberia",
         " ACC5       ",
         " Moderate         ",
         " No        ",
         "13",
         " Urban    ",
         " Rainy            ",
         " Evening    ",
         "22",
         " Yes                ",
         " High           ",
         " No              ",
         " <=40 km/h"
        ]
       ],
       "shape": {
        "columns": 14,
        "rows": 5
       }
      },
      "text/html": [
       "<div>\n",
       "<style scoped>\n",
       "    .dataframe tbody tr th:only-of-type {\n",
       "        vertical-align: middle;\n",
       "    }\n",
       "\n",
       "    .dataframe tbody tr th {\n",
       "        vertical-align: top;\n",
       "    }\n",
       "\n",
       "    .dataframe thead th {\n",
       "        text-align: right;\n",
       "    }\n",
       "</style>\n",
       "<table border=\"1\" class=\"dataframe\">\n",
       "  <thead>\n",
       "    <tr style=\"text-align: right;\">\n",
       "      <th></th>\n",
       "      <th>Year</th>\n",
       "      <th>Country</th>\n",
       "      <th>Accident_ID</th>\n",
       "      <th>Accident_Severity</th>\n",
       "      <th>Helmet_Use</th>\n",
       "      <th>Injury_Severity_Score</th>\n",
       "      <th>Road_Type</th>\n",
       "      <th>Weather_Condition</th>\n",
       "      <th>Time_of_Day</th>\n",
       "      <th>Age_of_Driver</th>\n",
       "      <th>Helmet_Law_Enforced</th>\n",
       "      <th>Traffic_Density</th>\n",
       "      <th>Alcohol_Involved</th>\n",
       "      <th>Speed_Limit</th>\n",
       "    </tr>\n",
       "  </thead>\n",
       "  <tbody>\n",
       "    <tr>\n",
       "      <th>0</th>\n",
       "      <td>2022</td>\n",
       "      <td>Liberia</td>\n",
       "      <td>ACC1</td>\n",
       "      <td>Moderate</td>\n",
       "      <td>Yes</td>\n",
       "      <td>2</td>\n",
       "      <td>Urban</td>\n",
       "      <td>Rainy</td>\n",
       "      <td>Afternoon</td>\n",
       "      <td>50</td>\n",
       "      <td>Yes</td>\n",
       "      <td>Medium</td>\n",
       "      <td>No</td>\n",
       "      <td>41-60 km/h</td>\n",
       "    </tr>\n",
       "    <tr>\n",
       "      <th>1</th>\n",
       "      <td>2019</td>\n",
       "      <td>Liberia</td>\n",
       "      <td>ACC2</td>\n",
       "      <td>Moderate</td>\n",
       "      <td>Yes</td>\n",
       "      <td>6</td>\n",
       "      <td>Rural</td>\n",
       "      <td>Rainy</td>\n",
       "      <td>Afternoon</td>\n",
       "      <td>22</td>\n",
       "      <td>Yes</td>\n",
       "      <td>Low</td>\n",
       "      <td>Yes</td>\n",
       "      <td>61-80 km/h</td>\n",
       "    </tr>\n",
       "    <tr>\n",
       "      <th>2</th>\n",
       "      <td>2020</td>\n",
       "      <td>Liberia</td>\n",
       "      <td>ACC3</td>\n",
       "      <td>Minor</td>\n",
       "      <td>No</td>\n",
       "      <td>12</td>\n",
       "      <td>Urban</td>\n",
       "      <td>Rainy</td>\n",
       "      <td>Evening</td>\n",
       "      <td>45</td>\n",
       "      <td>Yes</td>\n",
       "      <td>Low</td>\n",
       "      <td>Yes</td>\n",
       "      <td>41-60 km/h</td>\n",
       "    </tr>\n",
       "    <tr>\n",
       "      <th>3</th>\n",
       "      <td>2022</td>\n",
       "      <td>Nigeria</td>\n",
       "      <td>ACC4</td>\n",
       "      <td>Severe</td>\n",
       "      <td>No</td>\n",
       "      <td>5</td>\n",
       "      <td>Urban</td>\n",
       "      <td>Clear</td>\n",
       "      <td>Afternoon</td>\n",
       "      <td>31</td>\n",
       "      <td>Yes</td>\n",
       "      <td>Low</td>\n",
       "      <td>No</td>\n",
       "      <td>41-60 km/h</td>\n",
       "    </tr>\n",
       "    <tr>\n",
       "      <th>4</th>\n",
       "      <td>2018</td>\n",
       "      <td>Liberia</td>\n",
       "      <td>ACC5</td>\n",
       "      <td>Moderate</td>\n",
       "      <td>No</td>\n",
       "      <td>13</td>\n",
       "      <td>Urban</td>\n",
       "      <td>Rainy</td>\n",
       "      <td>Evening</td>\n",
       "      <td>22</td>\n",
       "      <td>Yes</td>\n",
       "      <td>High</td>\n",
       "      <td>No</td>\n",
       "      <td>&lt;=40 km/h</td>\n",
       "    </tr>\n",
       "  </tbody>\n",
       "</table>\n",
       "</div>"
      ],
      "text/plain": [
       "   Year   Country   Accident_ID   Accident_Severity   Helmet_Use  \\\n",
       "0  2022   Liberia   ACC1          Moderate            Yes          \n",
       "1  2019   Liberia   ACC2          Moderate            Yes          \n",
       "2  2020   Liberia   ACC3          Minor               No           \n",
       "3  2022   Nigeria   ACC4          Severe              No           \n",
       "4  2018   Liberia   ACC5          Moderate            No           \n",
       "\n",
       "    Injury_Severity_Score   Road_Type   Weather_Condition   Time_of_Day  \\\n",
       "0                       2   Urban       Rainy               Afternoon     \n",
       "1                       6   Rural       Rainy               Afternoon     \n",
       "2                      12   Urban       Rainy               Evening       \n",
       "3                       5   Urban       Clear               Afternoon     \n",
       "4                      13   Urban       Rainy               Evening       \n",
       "\n",
       "    Age_of_Driver   Helmet_Law_Enforced   Traffic_Density   Alcohol_Involved  \\\n",
       "0              50   Yes                   Medium            No                 \n",
       "1              22   Yes                   Low               Yes                \n",
       "2              45   Yes                   Low               Yes                \n",
       "3              31   Yes                   Low               No                 \n",
       "4              22   Yes                   High              No                 \n",
       "\n",
       "   Speed_Limit  \n",
       "0   41-60 km/h  \n",
       "1   61-80 km/h  \n",
       "2   41-60 km/h  \n",
       "3   41-60 km/h  \n",
       "4    <=40 km/h  "
      ]
     },
     "execution_count": 240,
     "metadata": {},
     "output_type": "execute_result"
    }
   ],
   "source": [
    "import pandas as pd\n",
    "import numpy as np\n",
    "import matplotlib.pyplot as plt\n",
    "import seaborn as sns\n",
    "from sklearn.model_selection import train_test_split\n",
    "from sklearn.linear_model import LogisticRegression\n",
    "from sklearn.tree import DecisionTreeClassifier\n",
    "from sklearn.ensemble import RandomForestClassifier\n",
    "from sklearn.metrics import accuracy_score, precision_score, recall_score, f1_score, confusion_matrix, roc_auc_score\n",
    "from sklearn.model_selection import cross_val_score\n",
    "from sklearn.metrics import ConfusionMatrixDisplay, roc_curve, auc\n",
    "\n",
    "# Load the dataset\n",
    "file_path = 'accident_data.csv'\n",
    "df = pd.read_csv(file_path)\n",
    "\n",
    "# Display first few rows\n",
    "df.head()"
   ]
  },
  {
   "cell_type": "code",
   "execution_count": 241,
   "id": "da6e6ac2",
   "metadata": {},
   "outputs": [
    {
     "data": {
      "application/vnd.microsoft.datawrangler.viewer.v0+json": {
       "columns": [
        {
         "name": "index",
         "rawType": "object",
         "type": "string"
        },
        {
         "name": "0",
         "rawType": "int64",
         "type": "integer"
        }
       ],
       "ref": "af79358f-5d18-414d-a328-1eb2e7d90840",
       "rows": [
        [
         "Year",
         "0"
        ],
        [
         " Country",
         "0"
        ],
        [
         " Accident_ID",
         "0"
        ],
        [
         " Accident_Severity",
         "0"
        ],
        [
         " Helmet_Use",
         "0"
        ],
        [
         " Injury_Severity_Score",
         "0"
        ],
        [
         " Road_Type",
         "0"
        ],
        [
         " Weather_Condition",
         "0"
        ],
        [
         " Time_of_Day",
         "0"
        ],
        [
         " Age_of_Driver",
         "0"
        ],
        [
         " Helmet_Law_Enforced",
         "0"
        ],
        [
         " Traffic_Density",
         "0"
        ],
        [
         " Alcohol_Involved",
         "0"
        ],
        [
         " Speed_Limit",
         "0"
        ]
       ],
       "shape": {
        "columns": 1,
        "rows": 14
       }
      },
      "text/plain": [
       "Year                      0\n",
       " Country                  0\n",
       " Accident_ID              0\n",
       " Accident_Severity        0\n",
       " Helmet_Use               0\n",
       " Injury_Severity_Score    0\n",
       " Road_Type                0\n",
       " Weather_Condition        0\n",
       " Time_of_Day              0\n",
       " Age_of_Driver            0\n",
       " Helmet_Law_Enforced      0\n",
       " Traffic_Density          0\n",
       " Alcohol_Involved         0\n",
       " Speed_Limit              0\n",
       "dtype: int64"
      ]
     },
     "execution_count": 241,
     "metadata": {},
     "output_type": "execute_result"
    }
   ],
   "source": [
    "# Check data types\n",
    "df.dtypes\n",
    "\n",
    "# Check for missing values\n",
    "df.isnull().sum()"
   ]
  },
  {
   "cell_type": "code",
   "execution_count": 242,
   "id": "5e5b3c69",
   "metadata": {},
   "outputs": [],
   "source": [
    "\n",
    "# Predicting Helmet Use Before Accident\n",
    "# A comprehensive analysis using accident_data.csv to explore which factors predict whether riders are wearing helmets before an accident. This notebook includes exploratory data analysis, machine learning modeling, metric identification, and validation.\n",
    "\n",
    "# 1. Load and Inspect Data\n",
    "# Load the dataset, display the first few rows, and inspect data types and missing values. Our prediction target will be whether the rider was wearing a helmet before the accident.\n",
    "\n",
    "import pandas as pd\n",
    "import numpy as np\n",
    "import matplotlib.pyplot as plt\n",
    "import seaborn as sns\n",
    "from sklearn.model_selection import train_test_split\n",
    "from sklearn.linear_model import LogisticRegression\n",
    "from sklearn.tree import DecisionTreeClassifier\n",
    "from sklearn.ensemble import RandomForestClassifier\n",
    "from sklearn.metrics import accuracy_score, precision_score, recall_score, f1_score, confusion_matrix, roc_auc_score\n",
    "from sklearn.model_selection import cross_val_score\n",
    "from sklearn.metrics import ConfusionMatrixDisplay, roc_curve, auc"
   ]
  },
  {
   "cell_type": "markdown",
   "id": "ec9bb47c",
   "metadata": {},
   "source": [
    "Predicting Helmet Use Before Accident\n",
    "A comprehensive analysis using accident_data.csv to explore which factors predict whether riders are wearing helmets before an accident.\n",
    "This notebook includes exploratory data analysis, machine learning modeling, metric identification, and validation."
   ]
  },
  {
   "cell_type": "code",
   "execution_count": 243,
   "id": "07ec823e",
   "metadata": {},
   "outputs": [],
   "source": [
    "#Load and Inspect Data\n",
    "#Load the dataset, display the first few rows, and inspect data types and missing values. Our prediction target will be whether the rider was wearing a helmet before the accident.\n",
    "\n",
    "import pandas as pd\n",
    "import numpy as np\n",
    "import matplotlib.pyplot as plt\n",
    "import seaborn as sns\n",
    "from sklearn.model_selection import train_test_split\n",
    "from sklearn.linear_model import LogisticRegression\n",
    "from sklearn.tree import DecisionTreeClassifier\n",
    "from sklearn.ensemble import RandomForestClassifier\n",
    "from sklearn.metrics import accuracy_score, precision_score, recall_score, f1_score, confusion_matrix, roc_auc_score\n",
    "from sklearn.model_selection import cross_val_score\n",
    "from sklearn.metrics import ConfusionMatrixDisplay, roc_curve, auc"
   ]
  },
  {
   "cell_type": "code",
   "execution_count": 244,
   "id": "0abc2dbf",
   "metadata": {},
   "outputs": [],
   "source": [
    "# Load the dataset\n",
    "file_path = 'accident_data.csv'\n",
    "df = pd.read_csv(file_path)"
   ]
  },
  {
   "cell_type": "code",
   "execution_count": 245,
   "id": "61806dae",
   "metadata": {},
   "outputs": [
    {
     "data": {
      "application/vnd.microsoft.datawrangler.viewer.v0+json": {
       "columns": [
        {
         "name": "index",
         "rawType": "int64",
         "type": "integer"
        },
        {
         "name": "Year",
         "rawType": "int64",
         "type": "integer"
        },
        {
         "name": " Country",
         "rawType": "object",
         "type": "string"
        },
        {
         "name": " Accident_ID",
         "rawType": "object",
         "type": "string"
        },
        {
         "name": " Accident_Severity",
         "rawType": "object",
         "type": "string"
        },
        {
         "name": " Helmet_Use",
         "rawType": "object",
         "type": "string"
        },
        {
         "name": " Injury_Severity_Score",
         "rawType": "int64",
         "type": "integer"
        },
        {
         "name": " Road_Type",
         "rawType": "object",
         "type": "string"
        },
        {
         "name": " Weather_Condition",
         "rawType": "object",
         "type": "string"
        },
        {
         "name": " Time_of_Day",
         "rawType": "object",
         "type": "string"
        },
        {
         "name": " Age_of_Driver",
         "rawType": "int64",
         "type": "integer"
        },
        {
         "name": " Helmet_Law_Enforced",
         "rawType": "object",
         "type": "string"
        },
        {
         "name": " Traffic_Density",
         "rawType": "object",
         "type": "string"
        },
        {
         "name": " Alcohol_Involved",
         "rawType": "object",
         "type": "string"
        },
        {
         "name": " Speed_Limit",
         "rawType": "object",
         "type": "string"
        }
       ],
       "ref": "2cec40f2-2ee1-42bf-9cf9-0a1e76b8559a",
       "rows": [
        [
         "0",
         "2022",
         " Liberia",
         " ACC1       ",
         " Moderate         ",
         " Yes       ",
         "2",
         " Urban    ",
         " Rainy            ",
         " Afternoon  ",
         "50",
         " Yes                ",
         " Medium         ",
         " No              ",
         " 41-60 km/h"
        ],
        [
         "1",
         "2019",
         " Liberia",
         " ACC2       ",
         " Moderate         ",
         " Yes       ",
         "6",
         " Rural    ",
         " Rainy            ",
         " Afternoon  ",
         "22",
         " Yes                ",
         " Low            ",
         " Yes             ",
         " 61-80 km/h"
        ],
        [
         "2",
         "2020",
         " Liberia",
         " ACC3       ",
         " Minor            ",
         " No        ",
         "12",
         " Urban    ",
         " Rainy            ",
         " Evening    ",
         "45",
         " Yes                ",
         " Low            ",
         " Yes             ",
         " 41-60 km/h"
        ],
        [
         "3",
         "2022",
         " Nigeria",
         " ACC4       ",
         " Severe           ",
         " No        ",
         "5",
         " Urban    ",
         " Clear            ",
         " Afternoon  ",
         "31",
         " Yes                ",
         " Low            ",
         " No              ",
         " 41-60 km/h"
        ],
        [
         "4",
         "2018",
         " Liberia",
         " ACC5       ",
         " Moderate         ",
         " No        ",
         "13",
         " Urban    ",
         " Rainy            ",
         " Evening    ",
         "22",
         " Yes                ",
         " High           ",
         " No              ",
         " <=40 km/h"
        ]
       ],
       "shape": {
        "columns": 14,
        "rows": 5
       }
      },
      "text/html": [
       "<div>\n",
       "<style scoped>\n",
       "    .dataframe tbody tr th:only-of-type {\n",
       "        vertical-align: middle;\n",
       "    }\n",
       "\n",
       "    .dataframe tbody tr th {\n",
       "        vertical-align: top;\n",
       "    }\n",
       "\n",
       "    .dataframe thead th {\n",
       "        text-align: right;\n",
       "    }\n",
       "</style>\n",
       "<table border=\"1\" class=\"dataframe\">\n",
       "  <thead>\n",
       "    <tr style=\"text-align: right;\">\n",
       "      <th></th>\n",
       "      <th>Year</th>\n",
       "      <th>Country</th>\n",
       "      <th>Accident_ID</th>\n",
       "      <th>Accident_Severity</th>\n",
       "      <th>Helmet_Use</th>\n",
       "      <th>Injury_Severity_Score</th>\n",
       "      <th>Road_Type</th>\n",
       "      <th>Weather_Condition</th>\n",
       "      <th>Time_of_Day</th>\n",
       "      <th>Age_of_Driver</th>\n",
       "      <th>Helmet_Law_Enforced</th>\n",
       "      <th>Traffic_Density</th>\n",
       "      <th>Alcohol_Involved</th>\n",
       "      <th>Speed_Limit</th>\n",
       "    </tr>\n",
       "  </thead>\n",
       "  <tbody>\n",
       "    <tr>\n",
       "      <th>0</th>\n",
       "      <td>2022</td>\n",
       "      <td>Liberia</td>\n",
       "      <td>ACC1</td>\n",
       "      <td>Moderate</td>\n",
       "      <td>Yes</td>\n",
       "      <td>2</td>\n",
       "      <td>Urban</td>\n",
       "      <td>Rainy</td>\n",
       "      <td>Afternoon</td>\n",
       "      <td>50</td>\n",
       "      <td>Yes</td>\n",
       "      <td>Medium</td>\n",
       "      <td>No</td>\n",
       "      <td>41-60 km/h</td>\n",
       "    </tr>\n",
       "    <tr>\n",
       "      <th>1</th>\n",
       "      <td>2019</td>\n",
       "      <td>Liberia</td>\n",
       "      <td>ACC2</td>\n",
       "      <td>Moderate</td>\n",
       "      <td>Yes</td>\n",
       "      <td>6</td>\n",
       "      <td>Rural</td>\n",
       "      <td>Rainy</td>\n",
       "      <td>Afternoon</td>\n",
       "      <td>22</td>\n",
       "      <td>Yes</td>\n",
       "      <td>Low</td>\n",
       "      <td>Yes</td>\n",
       "      <td>61-80 km/h</td>\n",
       "    </tr>\n",
       "    <tr>\n",
       "      <th>2</th>\n",
       "      <td>2020</td>\n",
       "      <td>Liberia</td>\n",
       "      <td>ACC3</td>\n",
       "      <td>Minor</td>\n",
       "      <td>No</td>\n",
       "      <td>12</td>\n",
       "      <td>Urban</td>\n",
       "      <td>Rainy</td>\n",
       "      <td>Evening</td>\n",
       "      <td>45</td>\n",
       "      <td>Yes</td>\n",
       "      <td>Low</td>\n",
       "      <td>Yes</td>\n",
       "      <td>41-60 km/h</td>\n",
       "    </tr>\n",
       "    <tr>\n",
       "      <th>3</th>\n",
       "      <td>2022</td>\n",
       "      <td>Nigeria</td>\n",
       "      <td>ACC4</td>\n",
       "      <td>Severe</td>\n",
       "      <td>No</td>\n",
       "      <td>5</td>\n",
       "      <td>Urban</td>\n",
       "      <td>Clear</td>\n",
       "      <td>Afternoon</td>\n",
       "      <td>31</td>\n",
       "      <td>Yes</td>\n",
       "      <td>Low</td>\n",
       "      <td>No</td>\n",
       "      <td>41-60 km/h</td>\n",
       "    </tr>\n",
       "    <tr>\n",
       "      <th>4</th>\n",
       "      <td>2018</td>\n",
       "      <td>Liberia</td>\n",
       "      <td>ACC5</td>\n",
       "      <td>Moderate</td>\n",
       "      <td>No</td>\n",
       "      <td>13</td>\n",
       "      <td>Urban</td>\n",
       "      <td>Rainy</td>\n",
       "      <td>Evening</td>\n",
       "      <td>22</td>\n",
       "      <td>Yes</td>\n",
       "      <td>High</td>\n",
       "      <td>No</td>\n",
       "      <td>&lt;=40 km/h</td>\n",
       "    </tr>\n",
       "  </tbody>\n",
       "</table>\n",
       "</div>"
      ],
      "text/plain": [
       "   Year   Country   Accident_ID   Accident_Severity   Helmet_Use  \\\n",
       "0  2022   Liberia   ACC1          Moderate            Yes          \n",
       "1  2019   Liberia   ACC2          Moderate            Yes          \n",
       "2  2020   Liberia   ACC3          Minor               No           \n",
       "3  2022   Nigeria   ACC4          Severe              No           \n",
       "4  2018   Liberia   ACC5          Moderate            No           \n",
       "\n",
       "    Injury_Severity_Score   Road_Type   Weather_Condition   Time_of_Day  \\\n",
       "0                       2   Urban       Rainy               Afternoon     \n",
       "1                       6   Rural       Rainy               Afternoon     \n",
       "2                      12   Urban       Rainy               Evening       \n",
       "3                       5   Urban       Clear               Afternoon     \n",
       "4                      13   Urban       Rainy               Evening       \n",
       "\n",
       "    Age_of_Driver   Helmet_Law_Enforced   Traffic_Density   Alcohol_Involved  \\\n",
       "0              50   Yes                   Medium            No                 \n",
       "1              22   Yes                   Low               Yes                \n",
       "2              45   Yes                   Low               Yes                \n",
       "3              31   Yes                   Low               No                 \n",
       "4              22   Yes                   High              No                 \n",
       "\n",
       "   Speed_Limit  \n",
       "0   41-60 km/h  \n",
       "1   61-80 km/h  \n",
       "2   41-60 km/h  \n",
       "3   41-60 km/h  \n",
       "4    <=40 km/h  "
      ]
     },
     "execution_count": 245,
     "metadata": {},
     "output_type": "execute_result"
    }
   ],
   "source": [
    "\n",
    "# Display first few rows\n",
    "df.head()"
   ]
  },
  {
   "cell_type": "code",
   "execution_count": 246,
   "id": "38b413dd",
   "metadata": {},
   "outputs": [
    {
     "data": {
      "application/vnd.microsoft.datawrangler.viewer.v0+json": {
       "columns": [
        {
         "name": "index",
         "rawType": "int64",
         "type": "integer"
        },
        {
         "name": "Year",
         "rawType": "int64",
         "type": "integer"
        },
        {
         "name": " Country",
         "rawType": "object",
         "type": "string"
        },
        {
         "name": " Accident_ID",
         "rawType": "object",
         "type": "string"
        },
        {
         "name": " Accident_Severity",
         "rawType": "object",
         "type": "string"
        },
        {
         "name": " Helmet_Use",
         "rawType": "object",
         "type": "string"
        },
        {
         "name": " Injury_Severity_Score",
         "rawType": "int64",
         "type": "integer"
        },
        {
         "name": " Road_Type",
         "rawType": "object",
         "type": "string"
        },
        {
         "name": " Weather_Condition",
         "rawType": "object",
         "type": "string"
        },
        {
         "name": " Time_of_Day",
         "rawType": "object",
         "type": "string"
        },
        {
         "name": " Age_of_Driver",
         "rawType": "int64",
         "type": "integer"
        },
        {
         "name": " Helmet_Law_Enforced",
         "rawType": "object",
         "type": "string"
        },
        {
         "name": " Traffic_Density",
         "rawType": "object",
         "type": "string"
        },
        {
         "name": " Alcohol_Involved",
         "rawType": "object",
         "type": "string"
        },
        {
         "name": " Speed_Limit",
         "rawType": "object",
         "type": "string"
        }
       ],
       "ref": "8660a63e-9956-4f2f-b3c8-3c7ff393fc78",
       "rows": [
        [
         "0",
         "2022",
         " Liberia",
         " ACC1       ",
         " Moderate         ",
         " Yes       ",
         "2",
         " Urban    ",
         " Rainy            ",
         " Afternoon  ",
         "50",
         " Yes                ",
         " Medium         ",
         " No              ",
         " 41-60 km/h"
        ],
        [
         "1",
         "2019",
         " Liberia",
         " ACC2       ",
         " Moderate         ",
         " Yes       ",
         "6",
         " Rural    ",
         " Rainy            ",
         " Afternoon  ",
         "22",
         " Yes                ",
         " Low            ",
         " Yes             ",
         " 61-80 km/h"
        ],
        [
         "2",
         "2020",
         " Liberia",
         " ACC3       ",
         " Minor            ",
         " No        ",
         "12",
         " Urban    ",
         " Rainy            ",
         " Evening    ",
         "45",
         " Yes                ",
         " Low            ",
         " Yes             ",
         " 41-60 km/h"
        ],
        [
         "3",
         "2022",
         " Nigeria",
         " ACC4       ",
         " Severe           ",
         " No        ",
         "5",
         " Urban    ",
         " Clear            ",
         " Afternoon  ",
         "31",
         " Yes                ",
         " Low            ",
         " No              ",
         " 41-60 km/h"
        ],
        [
         "4",
         "2018",
         " Liberia",
         " ACC5       ",
         " Moderate         ",
         " No        ",
         "13",
         " Urban    ",
         " Rainy            ",
         " Evening    ",
         "22",
         " Yes                ",
         " High           ",
         " No              ",
         " <=40 km/h"
        ]
       ],
       "shape": {
        "columns": 14,
        "rows": 5
       }
      },
      "text/html": [
       "<div>\n",
       "<style scoped>\n",
       "    .dataframe tbody tr th:only-of-type {\n",
       "        vertical-align: middle;\n",
       "    }\n",
       "\n",
       "    .dataframe tbody tr th {\n",
       "        vertical-align: top;\n",
       "    }\n",
       "\n",
       "    .dataframe thead th {\n",
       "        text-align: right;\n",
       "    }\n",
       "</style>\n",
       "<table border=\"1\" class=\"dataframe\">\n",
       "  <thead>\n",
       "    <tr style=\"text-align: right;\">\n",
       "      <th></th>\n",
       "      <th>Year</th>\n",
       "      <th>Country</th>\n",
       "      <th>Accident_ID</th>\n",
       "      <th>Accident_Severity</th>\n",
       "      <th>Helmet_Use</th>\n",
       "      <th>Injury_Severity_Score</th>\n",
       "      <th>Road_Type</th>\n",
       "      <th>Weather_Condition</th>\n",
       "      <th>Time_of_Day</th>\n",
       "      <th>Age_of_Driver</th>\n",
       "      <th>Helmet_Law_Enforced</th>\n",
       "      <th>Traffic_Density</th>\n",
       "      <th>Alcohol_Involved</th>\n",
       "      <th>Speed_Limit</th>\n",
       "    </tr>\n",
       "  </thead>\n",
       "  <tbody>\n",
       "    <tr>\n",
       "      <th>0</th>\n",
       "      <td>2022</td>\n",
       "      <td>Liberia</td>\n",
       "      <td>ACC1</td>\n",
       "      <td>Moderate</td>\n",
       "      <td>Yes</td>\n",
       "      <td>2</td>\n",
       "      <td>Urban</td>\n",
       "      <td>Rainy</td>\n",
       "      <td>Afternoon</td>\n",
       "      <td>50</td>\n",
       "      <td>Yes</td>\n",
       "      <td>Medium</td>\n",
       "      <td>No</td>\n",
       "      <td>41-60 km/h</td>\n",
       "    </tr>\n",
       "    <tr>\n",
       "      <th>1</th>\n",
       "      <td>2019</td>\n",
       "      <td>Liberia</td>\n",
       "      <td>ACC2</td>\n",
       "      <td>Moderate</td>\n",
       "      <td>Yes</td>\n",
       "      <td>6</td>\n",
       "      <td>Rural</td>\n",
       "      <td>Rainy</td>\n",
       "      <td>Afternoon</td>\n",
       "      <td>22</td>\n",
       "      <td>Yes</td>\n",
       "      <td>Low</td>\n",
       "      <td>Yes</td>\n",
       "      <td>61-80 km/h</td>\n",
       "    </tr>\n",
       "    <tr>\n",
       "      <th>2</th>\n",
       "      <td>2020</td>\n",
       "      <td>Liberia</td>\n",
       "      <td>ACC3</td>\n",
       "      <td>Minor</td>\n",
       "      <td>No</td>\n",
       "      <td>12</td>\n",
       "      <td>Urban</td>\n",
       "      <td>Rainy</td>\n",
       "      <td>Evening</td>\n",
       "      <td>45</td>\n",
       "      <td>Yes</td>\n",
       "      <td>Low</td>\n",
       "      <td>Yes</td>\n",
       "      <td>41-60 km/h</td>\n",
       "    </tr>\n",
       "    <tr>\n",
       "      <th>3</th>\n",
       "      <td>2022</td>\n",
       "      <td>Nigeria</td>\n",
       "      <td>ACC4</td>\n",
       "      <td>Severe</td>\n",
       "      <td>No</td>\n",
       "      <td>5</td>\n",
       "      <td>Urban</td>\n",
       "      <td>Clear</td>\n",
       "      <td>Afternoon</td>\n",
       "      <td>31</td>\n",
       "      <td>Yes</td>\n",
       "      <td>Low</td>\n",
       "      <td>No</td>\n",
       "      <td>41-60 km/h</td>\n",
       "    </tr>\n",
       "    <tr>\n",
       "      <th>4</th>\n",
       "      <td>2018</td>\n",
       "      <td>Liberia</td>\n",
       "      <td>ACC5</td>\n",
       "      <td>Moderate</td>\n",
       "      <td>No</td>\n",
       "      <td>13</td>\n",
       "      <td>Urban</td>\n",
       "      <td>Rainy</td>\n",
       "      <td>Evening</td>\n",
       "      <td>22</td>\n",
       "      <td>Yes</td>\n",
       "      <td>High</td>\n",
       "      <td>No</td>\n",
       "      <td>&lt;=40 km/h</td>\n",
       "    </tr>\n",
       "  </tbody>\n",
       "</table>\n",
       "</div>"
      ],
      "text/plain": [
       "   Year   Country   Accident_ID   Accident_Severity   Helmet_Use  \\\n",
       "0  2022   Liberia   ACC1          Moderate            Yes          \n",
       "1  2019   Liberia   ACC2          Moderate            Yes          \n",
       "2  2020   Liberia   ACC3          Minor               No           \n",
       "3  2022   Nigeria   ACC4          Severe              No           \n",
       "4  2018   Liberia   ACC5          Moderate            No           \n",
       "\n",
       "    Injury_Severity_Score   Road_Type   Weather_Condition   Time_of_Day  \\\n",
       "0                       2   Urban       Rainy               Afternoon     \n",
       "1                       6   Rural       Rainy               Afternoon     \n",
       "2                      12   Urban       Rainy               Evening       \n",
       "3                       5   Urban       Clear               Afternoon     \n",
       "4                      13   Urban       Rainy               Evening       \n",
       "\n",
       "    Age_of_Driver   Helmet_Law_Enforced   Traffic_Density   Alcohol_Involved  \\\n",
       "0              50   Yes                   Medium            No                 \n",
       "1              22   Yes                   Low               Yes                \n",
       "2              45   Yes                   Low               Yes                \n",
       "3              31   Yes                   Low               No                 \n",
       "4              22   Yes                   High              No                 \n",
       "\n",
       "   Speed_Limit  \n",
       "0   41-60 km/h  \n",
       "1   61-80 km/h  \n",
       "2   41-60 km/h  \n",
       "3   41-60 km/h  \n",
       "4    <=40 km/h  "
      ]
     },
     "execution_count": 246,
     "metadata": {},
     "output_type": "execute_result"
    }
   ],
   "source": [
    "\n",
    "# Display first few rows\n",
    "df.head()"
   ]
  },
  {
   "cell_type": "code",
   "execution_count": 247,
   "id": "1eb63a1c",
   "metadata": {},
   "outputs": [
    {
     "data": {
      "text/plain": [
       "(500, 14)"
      ]
     },
     "execution_count": 247,
     "metadata": {},
     "output_type": "execute_result"
    }
   ],
   "source": [
    "df.shape\n",
    "(500, 14)"
   ]
  },
  {
   "cell_type": "code",
   "execution_count": 248,
   "id": "0ca5e42b",
   "metadata": {},
   "outputs": [
    {
     "name": "stdout",
     "output_type": "stream",
     "text": [
      "(500, 14)\n"
     ]
    }
   ],
   "source": [
    "# Display the shape of the DataFrame\n",
    "print(df.shape)"
   ]
  },
  {
   "cell_type": "code",
   "execution_count": 249,
   "id": "354a6ba7",
   "metadata": {},
   "outputs": [
    {
     "data": {
      "application/vnd.microsoft.datawrangler.viewer.v0+json": {
       "columns": [
        {
         "name": "index",
         "rawType": "object",
         "type": "string"
        },
        {
         "name": "0",
         "rawType": "object",
         "type": "unknown"
        }
       ],
       "ref": "15d44399-5677-4aa5-a5d5-1099a84b4cf2",
       "rows": [
        [
         "Year",
         "int64"
        ],
        [
         " Country",
         "object"
        ],
        [
         " Accident_ID",
         "object"
        ],
        [
         " Accident_Severity",
         "object"
        ],
        [
         " Helmet_Use",
         "object"
        ],
        [
         " Injury_Severity_Score",
         "int64"
        ],
        [
         " Road_Type",
         "object"
        ],
        [
         " Weather_Condition",
         "object"
        ],
        [
         " Time_of_Day",
         "object"
        ],
        [
         " Age_of_Driver",
         "int64"
        ],
        [
         " Helmet_Law_Enforced",
         "object"
        ],
        [
         " Traffic_Density",
         "object"
        ],
        [
         " Alcohol_Involved",
         "object"
        ],
        [
         " Speed_Limit",
         "object"
        ]
       ],
       "shape": {
        "columns": 1,
        "rows": 14
       }
      },
      "text/plain": [
       "Year                       int64\n",
       " Country                  object\n",
       " Accident_ID              object\n",
       " Accident_Severity        object\n",
       " Helmet_Use               object\n",
       " Injury_Severity_Score     int64\n",
       " Road_Type                object\n",
       " Weather_Condition        object\n",
       " Time_of_Day              object\n",
       " Age_of_Driver             int64\n",
       " Helmet_Law_Enforced      object\n",
       " Traffic_Density          object\n",
       " Alcohol_Involved         object\n",
       " Speed_Limit              object\n",
       "dtype: object"
      ]
     },
     "execution_count": 249,
     "metadata": {},
     "output_type": "execute_result"
    }
   ],
   "source": [
    "# Check data types\n",
    "df.dtypes"
   ]
  },
  {
   "cell_type": "code",
   "execution_count": 250,
   "id": "ca703d2d",
   "metadata": {},
   "outputs": [
    {
     "data": {
      "application/vnd.microsoft.datawrangler.viewer.v0+json": {
       "columns": [
        {
         "name": "index",
         "rawType": "object",
         "type": "string"
        },
        {
         "name": "0",
         "rawType": "int64",
         "type": "integer"
        }
       ],
       "ref": "499c7c04-f4a3-4f3f-95dc-36f36437a03c",
       "rows": [
        [
         "Year",
         "0"
        ],
        [
         " Country",
         "0"
        ],
        [
         " Accident_ID",
         "0"
        ],
        [
         " Accident_Severity",
         "0"
        ],
        [
         " Helmet_Use",
         "0"
        ],
        [
         " Injury_Severity_Score",
         "0"
        ],
        [
         " Road_Type",
         "0"
        ],
        [
         " Weather_Condition",
         "0"
        ],
        [
         " Time_of_Day",
         "0"
        ],
        [
         " Age_of_Driver",
         "0"
        ],
        [
         " Helmet_Law_Enforced",
         "0"
        ],
        [
         " Traffic_Density",
         "0"
        ],
        [
         " Alcohol_Involved",
         "0"
        ],
        [
         " Speed_Limit",
         "0"
        ]
       ],
       "shape": {
        "columns": 1,
        "rows": 14
       }
      },
      "text/plain": [
       "Year                      0\n",
       " Country                  0\n",
       " Accident_ID              0\n",
       " Accident_Severity        0\n",
       " Helmet_Use               0\n",
       " Injury_Severity_Score    0\n",
       " Road_Type                0\n",
       " Weather_Condition        0\n",
       " Time_of_Day              0\n",
       " Age_of_Driver            0\n",
       " Helmet_Law_Enforced      0\n",
       " Traffic_Density          0\n",
       " Alcohol_Involved         0\n",
       " Speed_Limit              0\n",
       "dtype: int64"
      ]
     },
     "execution_count": 250,
     "metadata": {},
     "output_type": "execute_result"
    }
   ],
   "source": [
    "# Check for missing values\n",
    "df.isnull().sum()"
   ]
  },
  {
   "cell_type": "code",
   "execution_count": 251,
   "id": "95c10b93",
   "metadata": {},
   "outputs": [
    {
     "data": {
      "application/vnd.microsoft.datawrangler.viewer.v0+json": {
       "columns": [
        {
         "name": "index",
         "rawType": "object",
         "type": "string"
        },
        {
         "name": "Year",
         "rawType": "float64",
         "type": "float"
        },
        {
         "name": " Country",
         "rawType": "object",
         "type": "unknown"
        },
        {
         "name": " Accident_ID",
         "rawType": "object",
         "type": "unknown"
        },
        {
         "name": " Accident_Severity",
         "rawType": "object",
         "type": "unknown"
        },
        {
         "name": " Helmet_Use",
         "rawType": "object",
         "type": "unknown"
        },
        {
         "name": " Injury_Severity_Score",
         "rawType": "float64",
         "type": "float"
        },
        {
         "name": " Road_Type",
         "rawType": "object",
         "type": "unknown"
        },
        {
         "name": " Weather_Condition",
         "rawType": "object",
         "type": "unknown"
        },
        {
         "name": " Time_of_Day",
         "rawType": "object",
         "type": "unknown"
        },
        {
         "name": " Age_of_Driver",
         "rawType": "float64",
         "type": "float"
        },
        {
         "name": " Helmet_Law_Enforced",
         "rawType": "object",
         "type": "unknown"
        },
        {
         "name": " Traffic_Density",
         "rawType": "object",
         "type": "unknown"
        },
        {
         "name": " Alcohol_Involved",
         "rawType": "object",
         "type": "unknown"
        },
        {
         "name": " Speed_Limit",
         "rawType": "object",
         "type": "unknown"
        }
       ],
       "ref": "41d707ec-514f-447a-b989-a2b16e96b73c",
       "rows": [
        [
         "count",
         "500.0",
         "500",
         "500",
         "500",
         "500",
         "500.0",
         "500",
         "500",
         "500",
         "500.0",
         "500",
         "500",
         "500",
         "500"
        ],
        [
         "unique",
         null,
         "2",
         "500",
         "4",
         "2",
         null,
         "2",
         "4",
         "4",
         null,
         "2",
         "3",
         "2",
         "4"
        ],
        [
         "top",
         null,
         " Nigeria",
         " ACC1       ",
         " Minor            ",
         " Yes       ",
         null,
         " Urban    ",
         " Clear            ",
         " Morning    ",
         null,
         " Yes                ",
         " Medium         ",
         " No              ",
         " 41-60 km/h"
        ],
        [
         "freq",
         null,
         "254",
         "1",
         "214",
         "274",
         null,
         "339",
         "265",
         "133",
         null,
         "356",
         "249",
         "393",
         "220"
        ],
        [
         "mean",
         "2019.536",
         null,
         null,
         null,
         null,
         "7.812",
         null,
         null,
         null,
         "38.382",
         null,
         null,
         null,
         null
        ],
        [
         "std",
         "2.3331504842947295",
         null,
         null,
         null,
         null,
         "4.311593170898976",
         null,
         null,
         null,
         "12.225997957308197",
         null,
         null,
         null,
         null
        ],
        [
         "min",
         "2016.0",
         null,
         null,
         null,
         null,
         "1.0",
         null,
         null,
         null,
         "18.0",
         null,
         null,
         null,
         null
        ],
        [
         "25%",
         "2018.0",
         null,
         null,
         null,
         null,
         "4.0",
         null,
         null,
         null,
         "27.0",
         null,
         null,
         null,
         null
        ],
        [
         "50%",
         "2019.0",
         null,
         null,
         null,
         null,
         "7.0",
         null,
         null,
         null,
         "39.0",
         null,
         null,
         null,
         null
        ],
        [
         "75%",
         "2022.0",
         null,
         null,
         null,
         null,
         "12.0",
         null,
         null,
         null,
         "49.0",
         null,
         null,
         null,
         null
        ],
        [
         "max",
         "2023.0",
         null,
         null,
         null,
         null,
         "15.0",
         null,
         null,
         null,
         "59.0",
         null,
         null,
         null,
         null
        ]
       ],
       "shape": {
        "columns": 14,
        "rows": 11
       }
      },
      "text/html": [
       "<div>\n",
       "<style scoped>\n",
       "    .dataframe tbody tr th:only-of-type {\n",
       "        vertical-align: middle;\n",
       "    }\n",
       "\n",
       "    .dataframe tbody tr th {\n",
       "        vertical-align: top;\n",
       "    }\n",
       "\n",
       "    .dataframe thead th {\n",
       "        text-align: right;\n",
       "    }\n",
       "</style>\n",
       "<table border=\"1\" class=\"dataframe\">\n",
       "  <thead>\n",
       "    <tr style=\"text-align: right;\">\n",
       "      <th></th>\n",
       "      <th>Year</th>\n",
       "      <th>Country</th>\n",
       "      <th>Accident_ID</th>\n",
       "      <th>Accident_Severity</th>\n",
       "      <th>Helmet_Use</th>\n",
       "      <th>Injury_Severity_Score</th>\n",
       "      <th>Road_Type</th>\n",
       "      <th>Weather_Condition</th>\n",
       "      <th>Time_of_Day</th>\n",
       "      <th>Age_of_Driver</th>\n",
       "      <th>Helmet_Law_Enforced</th>\n",
       "      <th>Traffic_Density</th>\n",
       "      <th>Alcohol_Involved</th>\n",
       "      <th>Speed_Limit</th>\n",
       "    </tr>\n",
       "  </thead>\n",
       "  <tbody>\n",
       "    <tr>\n",
       "      <th>count</th>\n",
       "      <td>500.00000</td>\n",
       "      <td>500</td>\n",
       "      <td>500</td>\n",
       "      <td>500</td>\n",
       "      <td>500</td>\n",
       "      <td>500.000000</td>\n",
       "      <td>500</td>\n",
       "      <td>500</td>\n",
       "      <td>500</td>\n",
       "      <td>500.000000</td>\n",
       "      <td>500</td>\n",
       "      <td>500</td>\n",
       "      <td>500</td>\n",
       "      <td>500</td>\n",
       "    </tr>\n",
       "    <tr>\n",
       "      <th>unique</th>\n",
       "      <td>NaN</td>\n",
       "      <td>2</td>\n",
       "      <td>500</td>\n",
       "      <td>4</td>\n",
       "      <td>2</td>\n",
       "      <td>NaN</td>\n",
       "      <td>2</td>\n",
       "      <td>4</td>\n",
       "      <td>4</td>\n",
       "      <td>NaN</td>\n",
       "      <td>2</td>\n",
       "      <td>3</td>\n",
       "      <td>2</td>\n",
       "      <td>4</td>\n",
       "    </tr>\n",
       "    <tr>\n",
       "      <th>top</th>\n",
       "      <td>NaN</td>\n",
       "      <td>Nigeria</td>\n",
       "      <td>ACC1</td>\n",
       "      <td>Minor</td>\n",
       "      <td>Yes</td>\n",
       "      <td>NaN</td>\n",
       "      <td>Urban</td>\n",
       "      <td>Clear</td>\n",
       "      <td>Morning</td>\n",
       "      <td>NaN</td>\n",
       "      <td>Yes</td>\n",
       "      <td>Medium</td>\n",
       "      <td>No</td>\n",
       "      <td>41-60 km/h</td>\n",
       "    </tr>\n",
       "    <tr>\n",
       "      <th>freq</th>\n",
       "      <td>NaN</td>\n",
       "      <td>254</td>\n",
       "      <td>1</td>\n",
       "      <td>214</td>\n",
       "      <td>274</td>\n",
       "      <td>NaN</td>\n",
       "      <td>339</td>\n",
       "      <td>265</td>\n",
       "      <td>133</td>\n",
       "      <td>NaN</td>\n",
       "      <td>356</td>\n",
       "      <td>249</td>\n",
       "      <td>393</td>\n",
       "      <td>220</td>\n",
       "    </tr>\n",
       "    <tr>\n",
       "      <th>mean</th>\n",
       "      <td>2019.53600</td>\n",
       "      <td>NaN</td>\n",
       "      <td>NaN</td>\n",
       "      <td>NaN</td>\n",
       "      <td>NaN</td>\n",
       "      <td>7.812000</td>\n",
       "      <td>NaN</td>\n",
       "      <td>NaN</td>\n",
       "      <td>NaN</td>\n",
       "      <td>38.382000</td>\n",
       "      <td>NaN</td>\n",
       "      <td>NaN</td>\n",
       "      <td>NaN</td>\n",
       "      <td>NaN</td>\n",
       "    </tr>\n",
       "    <tr>\n",
       "      <th>std</th>\n",
       "      <td>2.33315</td>\n",
       "      <td>NaN</td>\n",
       "      <td>NaN</td>\n",
       "      <td>NaN</td>\n",
       "      <td>NaN</td>\n",
       "      <td>4.311593</td>\n",
       "      <td>NaN</td>\n",
       "      <td>NaN</td>\n",
       "      <td>NaN</td>\n",
       "      <td>12.225998</td>\n",
       "      <td>NaN</td>\n",
       "      <td>NaN</td>\n",
       "      <td>NaN</td>\n",
       "      <td>NaN</td>\n",
       "    </tr>\n",
       "    <tr>\n",
       "      <th>min</th>\n",
       "      <td>2016.00000</td>\n",
       "      <td>NaN</td>\n",
       "      <td>NaN</td>\n",
       "      <td>NaN</td>\n",
       "      <td>NaN</td>\n",
       "      <td>1.000000</td>\n",
       "      <td>NaN</td>\n",
       "      <td>NaN</td>\n",
       "      <td>NaN</td>\n",
       "      <td>18.000000</td>\n",
       "      <td>NaN</td>\n",
       "      <td>NaN</td>\n",
       "      <td>NaN</td>\n",
       "      <td>NaN</td>\n",
       "    </tr>\n",
       "    <tr>\n",
       "      <th>25%</th>\n",
       "      <td>2018.00000</td>\n",
       "      <td>NaN</td>\n",
       "      <td>NaN</td>\n",
       "      <td>NaN</td>\n",
       "      <td>NaN</td>\n",
       "      <td>4.000000</td>\n",
       "      <td>NaN</td>\n",
       "      <td>NaN</td>\n",
       "      <td>NaN</td>\n",
       "      <td>27.000000</td>\n",
       "      <td>NaN</td>\n",
       "      <td>NaN</td>\n",
       "      <td>NaN</td>\n",
       "      <td>NaN</td>\n",
       "    </tr>\n",
       "    <tr>\n",
       "      <th>50%</th>\n",
       "      <td>2019.00000</td>\n",
       "      <td>NaN</td>\n",
       "      <td>NaN</td>\n",
       "      <td>NaN</td>\n",
       "      <td>NaN</td>\n",
       "      <td>7.000000</td>\n",
       "      <td>NaN</td>\n",
       "      <td>NaN</td>\n",
       "      <td>NaN</td>\n",
       "      <td>39.000000</td>\n",
       "      <td>NaN</td>\n",
       "      <td>NaN</td>\n",
       "      <td>NaN</td>\n",
       "      <td>NaN</td>\n",
       "    </tr>\n",
       "    <tr>\n",
       "      <th>75%</th>\n",
       "      <td>2022.00000</td>\n",
       "      <td>NaN</td>\n",
       "      <td>NaN</td>\n",
       "      <td>NaN</td>\n",
       "      <td>NaN</td>\n",
       "      <td>12.000000</td>\n",
       "      <td>NaN</td>\n",
       "      <td>NaN</td>\n",
       "      <td>NaN</td>\n",
       "      <td>49.000000</td>\n",
       "      <td>NaN</td>\n",
       "      <td>NaN</td>\n",
       "      <td>NaN</td>\n",
       "      <td>NaN</td>\n",
       "    </tr>\n",
       "    <tr>\n",
       "      <th>max</th>\n",
       "      <td>2023.00000</td>\n",
       "      <td>NaN</td>\n",
       "      <td>NaN</td>\n",
       "      <td>NaN</td>\n",
       "      <td>NaN</td>\n",
       "      <td>15.000000</td>\n",
       "      <td>NaN</td>\n",
       "      <td>NaN</td>\n",
       "      <td>NaN</td>\n",
       "      <td>59.000000</td>\n",
       "      <td>NaN</td>\n",
       "      <td>NaN</td>\n",
       "      <td>NaN</td>\n",
       "      <td>NaN</td>\n",
       "    </tr>\n",
       "  </tbody>\n",
       "</table>\n",
       "</div>"
      ],
      "text/plain": [
       "              Year   Country   Accident_ID   Accident_Severity   Helmet_Use  \\\n",
       "count    500.00000       500           500                 500          500   \n",
       "unique         NaN         2           500                   4            2   \n",
       "top            NaN   Nigeria   ACC1          Minor               Yes          \n",
       "freq           NaN       254             1                 214          274   \n",
       "mean    2019.53600       NaN           NaN                 NaN          NaN   \n",
       "std        2.33315       NaN           NaN                 NaN          NaN   \n",
       "min     2016.00000       NaN           NaN                 NaN          NaN   \n",
       "25%     2018.00000       NaN           NaN                 NaN          NaN   \n",
       "50%     2019.00000       NaN           NaN                 NaN          NaN   \n",
       "75%     2022.00000       NaN           NaN                 NaN          NaN   \n",
       "max     2023.00000       NaN           NaN                 NaN          NaN   \n",
       "\n",
       "         Injury_Severity_Score   Road_Type   Weather_Condition   Time_of_Day  \\\n",
       "count               500.000000         500                 500           500   \n",
       "unique                     NaN           2                   4             4   \n",
       "top                        NaN   Urban       Clear               Morning       \n",
       "freq                       NaN         339                 265           133   \n",
       "mean                  7.812000         NaN                 NaN           NaN   \n",
       "std                   4.311593         NaN                 NaN           NaN   \n",
       "min                   1.000000         NaN                 NaN           NaN   \n",
       "25%                   4.000000         NaN                 NaN           NaN   \n",
       "50%                   7.000000         NaN                 NaN           NaN   \n",
       "75%                  12.000000         NaN                 NaN           NaN   \n",
       "max                  15.000000         NaN                 NaN           NaN   \n",
       "\n",
       "         Age_of_Driver   Helmet_Law_Enforced   Traffic_Density  \\\n",
       "count       500.000000                   500               500   \n",
       "unique             NaN                     2                 3   \n",
       "top                NaN   Yes                   Medium            \n",
       "freq               NaN                   356               249   \n",
       "mean         38.382000                   NaN               NaN   \n",
       "std          12.225998                   NaN               NaN   \n",
       "min          18.000000                   NaN               NaN   \n",
       "25%          27.000000                   NaN               NaN   \n",
       "50%          39.000000                   NaN               NaN   \n",
       "75%          49.000000                   NaN               NaN   \n",
       "max          59.000000                   NaN               NaN   \n",
       "\n",
       "         Alcohol_Involved  Speed_Limit  \n",
       "count                 500          500  \n",
       "unique                  2            4  \n",
       "top      No                 41-60 km/h  \n",
       "freq                  393          220  \n",
       "mean                  NaN          NaN  \n",
       "std                   NaN          NaN  \n",
       "min                   NaN          NaN  \n",
       "25%                   NaN          NaN  \n",
       "50%                   NaN          NaN  \n",
       "75%                   NaN          NaN  \n",
       "max                   NaN          NaN  "
      ]
     },
     "execution_count": 251,
     "metadata": {},
     "output_type": "execute_result"
    }
   ],
   "source": [
    "# descriptive statistics\n",
    "df.describe(include='all')"
   ]
  },
  {
   "cell_type": "code",
   "execution_count": 252,
   "id": "a93e34a1",
   "metadata": {},
   "outputs": [
    {
     "name": "stdout",
     "output_type": "stream",
     "text": [
      "Columns: ['Year', 'Country', 'Accident_ID', 'Accident_Severity', 'Helmet_Use', 'Injury_Severity_Score', 'Road_Type', 'Weather_Condition', 'Time_of_Day', 'Age_of_Driver', 'Helmet_Law_Enforced', 'Traffic_Density', 'Alcohol_Involved', 'Speed_Limit']\n"
     ]
    }
   ],
   "source": [
    "# 2. Data Cleaning and Preprocessing\n",
    "# Handle missing values, encode categorical variables, and ensure the data is suitable for analysis.\n",
    "\n",
    "# Drop rows with missing critical values (if any)\n",
    "df_clean = df.dropna()\n",
    "\n",
    "# Remove whitespace from column names and string values\n",
    "df_clean.columns = df_clean.columns.str.strip()\n",
    "for col in df_clean.select_dtypes(include='object').columns:\n",
    "    df_clean[col] = df_clean[col].str.strip()\n",
    "\n",
    "# Check columns\n",
    "print('Columns:', df_clean.columns.tolist())"
   ]
  },
  {
   "cell_type": "code",
   "execution_count": 253,
   "id": "1ef95885",
   "metadata": {},
   "outputs": [],
   "source": [
    "\n",
    "# Encode Helmet_Use as binary (ensure correct column name)\n",
    "helmet_col = [col for col in df_clean.columns if 'Helmet_Use' in col][0]\n",
    "helmet_map = {'Yes': 1, 'No': 0}\n",
    "df_clean['Helmet_Use_Binary'] = df_clean[helmet_col].map(helmet_map)"
   ]
  },
  {
   "cell_type": "code",
   "execution_count": 254,
   "id": "3b4d56b2",
   "metadata": {},
   "outputs": [],
   "source": [
    "# Encode Accident_Severity as ordered categorical\n",
    "severity_order = ['Minor', 'Moderate', 'Severe', 'Fatal']\n",
    "severity_col = [col for col in df_clean.columns if 'Accident_Severity' in col][0]\n",
    "df_clean['Accident_Severity_Cat'] = pd.Categorical(df_clean[severity_col], categories=severity_order, ordered=True)"
   ]
  },
  {
   "cell_type": "code",
   "execution_count": 255,
   "id": "729e4578",
   "metadata": {},
   "outputs": [],
   "source": [
    "# Encode other categorical variables as needed\n",
    "cat_cols = ['Road_Type', 'Weather_Condition', 'Time_of_Day', 'Helmet_Law_Enforced', 'Traffic_Density', 'Alcohol_Involved', 'Speed_Limit', 'Country']\n",
    "cat_cols = [col for col in df_clean.columns if any(base in col for base in cat_cols)]\n",
    "df_clean = pd.get_dummies(df_clean, columns=cat_cols, drop_first=True)"
   ]
  },
  {
   "cell_type": "code",
   "execution_count": 256,
   "id": "326b29b2",
   "metadata": {},
   "outputs": [],
   "source": [
    "df_clean.head()\n",
    "Columns: ['Year', 'Country', 'Accident_ID', 'Accident_Severity', \n",
    "          'Helmet_Use', 'Injury_Severity_Score', 'Road_Type', 'Weather_Condition', 'Time_of_Day', 'Age_of_Driver', \n",
    "          'Helmet_Law_Enforced', 'Traffic_Density', 'Alcohol_Involved', 'Speed_Limit']"
   ]
  },
  {
   "cell_type": "markdown",
   "id": "cbfd267d",
   "metadata": {},
   "source": [
    "3. Exploratory Data Analysis: Helmet Use vs Accident Occurrence\n",
    "Visualize and summarize the distribution of helmet use among accident records."
   ]
  },
  {
   "cell_type": "code",
   "execution_count": 257,
   "id": "16ad869e",
   "metadata": {},
   "outputs": [
    {
     "data": {
      "image/png": "[encoded data removed]",
      "text/plain": [
       "<Figure size 600x400 with 1 Axes>"
      ]
     },
     "metadata": {},
     "output_type": "display_data"
    },
    {
     "data": {
      "application/vnd.microsoft.datawrangler.viewer.v0+json": {
       "columns": [
        {
         "name": "Helmet_Use_Binary",
         "rawType": "int64",
         "type": "integer"
        },
        {
         "name": "count",
         "rawType": "int64",
         "type": "integer"
        }
       ],
       "ref": "3e682e08-2b09-453b-ab19-5d13c7dc5456",
       "rows": [
        [
         "0",
         "226"
        ],
        [
         "1",
         "274"
        ]
       ],
       "shape": {
        "columns": 1,
        "rows": 2
       }
      },
      "text/plain": [
       "Helmet_Use_Binary\n",
       "0    226\n",
       "1    274\n",
       "Name: count, dtype: int64"
      ]
     },
     "execution_count": 257,
     "metadata": {},
     "output_type": "execute_result"
    }
   ],
   "source": [
    "# Count and plot helmet use among accident records\n",
    "helmet_counts = df_clean['Helmet_Use_Binary'].value_counts().sort_index()\n",
    "labels = ['No Helmet', 'Helmet']\n",
    "plt.figure(figsize=(6,4))\n",
    "sns.barplot(x=labels, y=helmet_counts.values)\n",
    "plt.title('Helmet Use Among Accident Records')\n",
    "plt.ylabel('Number of Accidents')\n",
    "plt.show()\n",
    "# Display counts\n",
    "helmet_counts"
   ]
  },
  {
   "cell_type": "code",
   "execution_count": 258,
   "id": "95a5a90b",
   "metadata": {},
   "outputs": [
    {
     "data": {
      "image/png": "[encoded data removed]",
      "text/plain": [
       "<Figure size 700x400 with 1 Axes>"
      ]
     },
     "metadata": {},
     "output_type": "display_data"
    },
    {
     "name": "stderr",
     "output_type": "stream",
     "text": [
      "C:\\Users\\ADETUNJI\\AppData\\Local\\Temp\\ipykernel_44048\\1334468562.py:26: UserWarning: set_ticklabels() should only be used with a fixed number of ticks, i.e. after set_ticks() or using a FixedLocator.\n",
      "  axes[0, 0].set_xticklabels(['No', 'Yes'])\n"
     ]
    },
    {
     "data": {
      "image/png": "[encoded data removed]",
      "text/plain": [
       "<Figure size 1500x1000 with 4 Axes>"
      ]
     },
     "metadata": {},
     "output_type": "display_data"
    },
    {
     "name": "stdout",
     "output_type": "stream",
     "text": [
      "Helmet Use Percentage by Category:\n",
      "\n",
      "Helmet Law Enforced Yes:\n",
      "                         No Helmet  Helmet\n",
      "Helmet_Law_Enforced_Yes                   \n",
      "False                         50.7    49.3\n",
      "True                          43.0    57.0\n",
      "\n",
      "Traffic Category:\n",
      "                  No Helmet  Helmet\n",
      "Traffic_Category                   \n",
      "High                   47.3    52.7\n",
      "Low                    45.0    55.0\n",
      "Medium                 44.6    55.4\n",
      "\n",
      "Weather Category:\n",
      "                  No Helmet  Helmet\n",
      "Weather_Category                   \n",
      "Clear                  46.0    54.0\n",
      "Cloudy                 51.1    48.9\n",
      "Foggy                  38.6    61.4\n",
      "Rainy                  43.8    56.2\n",
      "\n",
      "Time Category:\n",
      "               No Helmet  Helmet\n",
      "Time_Category                   \n",
      "Afternoon           46.1    53.9\n",
      "Evening             46.5    53.5\n",
      "Morning             43.6    56.4\n",
      "Night               44.8    55.2\n"
     ]
    },
    {
     "name": "stderr",
     "output_type": "stream",
     "text": [
      "C:\\Users\\ADETUNJI\\AppData\\Local\\Temp\\ipykernel_44048\\1334468562.py:84: UserWarning: set_ticklabels() should only be used with a fixed number of ticks, i.e. after set_ticks() or using a FixedLocator.\n",
      "  axes[0, 0].set_xticklabels(['No', 'Yes'])\n"
     ]
    },
    {
     "data": {
      "text/plain": [
       "[Text(0, 0, 'No'), Text(1, 0, 'Yes')]"
      ]
     },
     "execution_count": 258,
     "metadata": {},
     "output_type": "execute_result"
    }
   ],
   "source": [
    "# Year-by-helmet use (use cleaned df and binary column). Guard if Year not present\n",
    "if 'Year' in df_clean.columns:\n",
    "    plt.figure(figsize=(7, 4))\n",
    "    ax = sns.lineplot(x='Year', y='Injury_Severity_Score', hue='Helmet_Use_Binary', data=df_clean, palette='Set2')\n",
    "    ax.set_title('Helmet Use by Year', fontsize=14)\n",
    "    plt.xlabel('Year', fontsize=12)\n",
    "    plt.ylabel('Injury Severity Score', fontsize=12)\n",
    "    # Replace legend labels 0/1 with readable labels\n",
    "    handles, _labels = ax.get_legend_handles_labels()\n",
    "    ax.legend(handles, ['No Helmet', 'Helmet'], title='Helmet Use')\n",
    "    plt.show()\n",
    "else:\n",
    "    print(\"Column 'Year' not found in cleaned dataframe; skipping Year plot.\")\n",
    "\n",
    "\n",
    "# Create visualizations for helmet use by key categorical variables\n",
    "fig, axes = plt.subplots(2, 2, figsize=(15, 10))\n",
    "fig.suptitle('Helmet Use by Various Factors', fontsize=16)\n",
    "\n",
    "# Helmet Law Enforcement vs Helmet Use\n",
    "sns.countplot(x='Helmet_Law_Enforced_Yes', hue='Helmet_Use_Binary', \n",
    "              data=df_clean, palette='Set2', ax=axes[0, 0])\n",
    "axes[0, 0].set_title('Helmet Use by Law Enforcement')\n",
    "axes[0, 0].set_xlabel('Helmet Law Enforced')\n",
    "axes[0, 0].set_ylabel('Count')\n",
    "axes[0, 0].set_xticklabels(['No', 'Yes'])\n",
    "axes[0, 0].legend(title='Helmet Use', labels=['No Helmet', 'Helmet'])\n",
    "\n",
    "# Traffic Density vs Helmet Use\n",
    "# Create friendly labels for visualization\n",
    "traffic_map = {\n",
    "    'Traffic_Density_Low': 'Low',\n",
    "    'Traffic_Density_Medium': 'Medium',\n",
    "    False: 'High'}  # If both Low and Medium are False, it's High\n",
    "\n",
    "\n",
    "df_clean['Traffic_Category'] = 'High'  # Default\n",
    "df_clean.loc[df_clean['Traffic_Density_Low'], 'Traffic_Category'] = 'Low'\n",
    "df_clean.loc[df_clean['Traffic_Density_Medium'], 'Traffic_Category'] = 'Medium'\n",
    "\n",
    "sns.countplot(x='Traffic_Category', hue='Helmet_Use_Binary', \n",
    "              data=df_clean, palette='Set2', ax=axes[0, 1])\n",
    "axes[0, 1].set_title('Helmet Use by Traffic Density')\n",
    "axes[0, 1].set_xlabel('Traffic Density')\n",
    "axes[0, 1].legend(title='Helmet Use', labels=['No Helmet', 'Helmet'])\n",
    "\n",
    "# Weather Condition vs Helmet Use\n",
    "# Create a weather condition category column\n",
    "df_clean['Weather_Category'] = 'Clear'  # Default\n",
    "df_clean.loc[df_clean['Weather_Condition_Rainy'], 'Weather_Category'] = 'Rainy'\n",
    "df_clean.loc[df_clean['Weather_Condition_Foggy'], 'Weather_Category'] = 'Foggy'\n",
    "df_clean.loc[df_clean['Weather_Condition_Cloudy'], 'Weather_Category'] = 'Cloudy'\n",
    "\n",
    "sns.countplot(x='Weather_Category', hue='Helmet_Use_Binary', \n",
    "              data=df_clean, palette='Set2', ax=axes[1, 0])\n",
    "axes[1, 0].set_title('Helmet Use by Weather Condition')\n",
    "axes[1, 0].set_xlabel('Weather')\n",
    "axes[1, 0].legend(title='Helmet Use', labels=['No Helmet', 'Helmet'])\n",
    "\n",
    "# Time of Day vs Helmet Use\n",
    "# Create a time of day category column\n",
    "df_clean['Time_Category'] = 'Afternoon'  # Default\n",
    "df_clean.loc[df_clean['Time_of_Day_Morning'], 'Time_Category'] = 'Morning'\n",
    "df_clean.loc[df_clean['Time_of_Day_Evening'], 'Time_Category'] = 'Evening'\n",
    "df_clean.loc[df_clean['Time_of_Day_Night'], 'Time_Category'] = 'Night'\n",
    "\n",
    "sns.countplot(x='Time_Category', hue='Helmet_Use_Binary', \n",
    "              data=df_clean, palette='Set2', ax=axes[1, 1])\n",
    "axes[1, 1].set_title('Helmet Use by Time of Day')\n",
    "axes[1, 1].set_xlabel('Time of Day')\n",
    "axes[1, 1].legend(title='Helmet Use', labels=['No Helmet', 'Helmet'])\n",
    "\n",
    "plt.tight_layout(rect=[0, 0, 1, 0.95])\n",
    "plt.show()\n",
    "\n",
    "# Calculate percentages of helmet use for each category\n",
    "print(\"Helmet Use Percentage by Category:\")\n",
    "for category in ['Helmet_Law_Enforced_Yes', 'Traffic_Category', 'Weather_Category', 'Time_Category']:\n",
    "    print(f\"\\n{category.replace('_', ' ')}:\")\n",
    "    helmet_pct = pd.crosstab(df_clean[category], df_clean['Helmet_Use_Binary'], \n",
    "                            normalize='index') * 100\n",
    "    helmet_pct.columns = ['No Helmet', 'Helmet']\n",
    "    print(helmet_pct.round(1))\n",
    "axes[0, 0].set_xticklabels(['No', 'Yes'])"
   ]
  },
  {
   "cell_type": "code",
   "execution_count": 259,
   "id": "1e7f0032",
   "metadata": {},
   "outputs": [
    {
     "data": {
      "image/png": "[encoded data removed]",
      "text/plain": [
       "<Figure size 700x400 with 1 Axes>"
      ]
     },
     "metadata": {},
     "output_type": "display_data"
    }
   ],
   "source": [
    "viz_df = pd.DataFrame({\n",
    "    'country': ['Nigeria' if x else 'Liberia' for x in df_clean['Country_Nigeria']],\n",
    "    'helmet_use': ['Helmet' if x else 'No Helmet' for x in df_clean['Helmet_Use_Binary']]\n",
    "})\n",
    "\n",
    "\n",
    "plt.figure(figsize=(7, 4))\n",
    "ax = sns.countplot(x='country', hue='helmet_use', data=viz_df, palette='Set2')\n",
    "ax.set_title('Helmet Use Distribution by Country', fontsize=14)\n",
    "plt.xlabel('Country', fontsize=12)\n",
    "plt.ylabel('Count', fontsize=12)\n",
    "plt.show()"
   ]
  },
  {
   "cell_type": "code",
   "execution_count": 260,
   "id": "76c92854",
   "metadata": {},
   "outputs": [
    {
     "name": "stdout",
     "output_type": "stream",
     "text": [
      "Helmet Use Counts by Country:\n",
      "helmet_use  Helmet  No Helmet\n",
      "country                      \n",
      "Liberia        142        104\n",
      "Nigeria        132        122\n",
      "\n",
      "Percentage of Helmet Use by Country:\n",
      "helmet_use  Helmet  No Helmet\n",
      "country                      \n",
      "Liberia       57.7       42.3\n",
      "Nigeria       52.0       48.0\n"
     ]
    }
   ],
   "source": [
    "# Calculate helmet use statistics by country\n",
    "helmet_counts = pd.crosstab(viz_df['country'], viz_df['helmet_use'])\n",
    "print(\"Helmet Use Counts by Country:\")\n",
    "print(helmet_counts)\n",
    "\n",
    "helmet_pct = pd.crosstab(viz_df['country'], viz_df['helmet_use'], normalize='index') * 100\n",
    "print(\"\\nPercentage of Helmet Use by Country:\")\n",
    "print(helmet_pct.round(1))"
   ]
  },
  {
   "cell_type": "markdown",
   "id": "8494f393",
   "metadata": {},
   "source": [
    "4. Exploratory Data Analysis: Accident Severity by Helmet Use\n",
    "Analyze accident severity (Minor, Moderate, Severe, Fatal) grouped by helmet use. Use cross-tabulation and visualization."
   ]
  },
  {
   "cell_type": "code",
   "execution_count": 261,
   "id": "32797a45",
   "metadata": {},
   "outputs": [
    {
     "data": {
      "application/vnd.microsoft.datawrangler.viewer.v0+json": {
       "columns": [
        {
         "name": "Accident_Severity_Cat",
         "rawType": "category",
         "type": "unknown"
        },
        {
         "name": "0",
         "rawType": "int64",
         "type": "integer"
        },
        {
         "name": "1",
         "rawType": "int64",
         "type": "integer"
        }
       ],
       "ref": "0a8cc42e-97da-4424-aeab-57a2af91f03c",
       "rows": [
        [
         "Minor",
         "100",
         "114"
        ],
        [
         "Moderate",
         "75",
         "77"
        ],
        [
         "Severe",
         "31",
         "58"
        ],
        [
         "Fatal",
         "20",
         "25"
        ]
       ],
       "shape": {
        "columns": 2,
        "rows": 4
       }
      },
      "text/html": [
       "<div>\n",
       "<style scoped>\n",
       "    .dataframe tbody tr th:only-of-type {\n",
       "        vertical-align: middle;\n",
       "    }\n",
       "\n",
       "    .dataframe tbody tr th {\n",
       "        vertical-align: top;\n",
       "    }\n",
       "\n",
       "    .dataframe thead th {\n",
       "        text-align: right;\n",
       "    }\n",
       "</style>\n",
       "<table border=\"1\" class=\"dataframe\">\n",
       "  <thead>\n",
       "    <tr style=\"text-align: right;\">\n",
       "      <th>Helmet_Use_Binary</th>\n",
       "      <th>0</th>\n",
       "      <th>1</th>\n",
       "    </tr>\n",
       "    <tr>\n",
       "      <th>Accident_Severity_Cat</th>\n",
       "      <th></th>\n",
       "      <th></th>\n",
       "    </tr>\n",
       "  </thead>\n",
       "  <tbody>\n",
       "    <tr>\n",
       "      <th>Minor</th>\n",
       "      <td>100</td>\n",
       "      <td>114</td>\n",
       "    </tr>\n",
       "    <tr>\n",
       "      <th>Moderate</th>\n",
       "      <td>75</td>\n",
       "      <td>77</td>\n",
       "    </tr>\n",
       "    <tr>\n",
       "      <th>Severe</th>\n",
       "      <td>31</td>\n",
       "      <td>58</td>\n",
       "    </tr>\n",
       "    <tr>\n",
       "      <th>Fatal</th>\n",
       "      <td>20</td>\n",
       "      <td>25</td>\n",
       "    </tr>\n",
       "  </tbody>\n",
       "</table>\n",
       "</div>"
      ],
      "text/plain": [
       "Helmet_Use_Binary        0    1\n",
       "Accident_Severity_Cat          \n",
       "Minor                  100  114\n",
       "Moderate                75   77\n",
       "Severe                  31   58\n",
       "Fatal                   20   25"
      ]
     },
     "execution_count": 261,
     "metadata": {},
     "output_type": "execute_result"
    }
   ],
   "source": [
    "pd.crosstab(df_clean['Accident_Severity_Cat'], df_clean['Helmet_Use_Binary'])"
   ]
  },
  {
   "cell_type": "code",
   "execution_count": 262,
   "id": "afcaf788",
   "metadata": {},
   "outputs": [
    {
     "data": {
      "image/png": "[encoded data removed]",
      "text/plain": [
       "<Figure size 800x500 with 1 Axes>"
      ]
     },
     "metadata": {},
     "output_type": "display_data"
    }
   ],
   "source": [
    "# Cross-tabulation of accident severity by helmet use\n",
    "severity_helmet_ct = pd.crosstab(df_clean['Accident_Severity_Cat'], df_clean['Helmet_Use_Binary'])\n",
    "severity_helmet_ct.columns = ['No Helmet', 'Helmet']\n",
    "severity_helmet_ct.plot(kind='bar' , figsize=(8,5))\n",
    "plt.title('People Using Helmets Experience More Accidents')\n",
    "plt.ylabel('Number of Accidents')\n",
    "plt.xlabel('Accident Severity')\n",
    "plt.show()\n"
   ]
  },
  {
   "cell_type": "markdown",
   "id": "50974c2c",
   "metadata": {},
   "source": [
    "5. Exploratory Data Analysis: Feature Relationships\n",
    "Explore relationships between helmet use and other features (age, road type, weather, etc.) using correlation, groupby, and plots."
   ]
  },
  {
   "cell_type": "code",
   "execution_count": 263,
   "id": "07b74df7",
   "metadata": {},
   "outputs": [
    {
     "data": {
      "image/png": "[encoded data removed]",
      "text/plain": [
       "<Figure size 1000x400 with 1 Axes>"
      ]
     },
     "metadata": {},
     "output_type": "display_data"
    }
   ],
   "source": [
    "\n",
    "# Boxplot of Injury Severity Score by Helmet Use\n",
    "\n",
    "plt.figure(figsize=(10,4))\n",
    "sns.boxplot(x='Helmet_Use_Binary', y='Injury_Severity_Score', data=df_clean)\n",
    "plt.title('Injury Severity Score by Helmet Use')\n",
    "plt.xlabel('Helmet Use (0=No, 1=Yes)')\n",
    "plt.show()"
   ]
  },
  {
   "cell_type": "code",
   "execution_count": 264,
   "id": "7e21be7b",
   "metadata": {},
   "outputs": [
    {
     "data": {
      "image/png": "[encoded data removed]",
      "text/plain": [
       "<Figure size 1200x800 with 2 Axes>"
      ]
     },
     "metadata": {},
     "output_type": "display_data"
    }
   ],
   "source": [
    "# Correlation matrix for numeric features\n",
    "numeric_df = df_clean.select_dtypes(include=[np.number])\n",
    "corr = numeric_df.corr()\n",
    "plt.figure(figsize=(12,8))\n",
    "sns.heatmap(corr, annot=True, fmt='.2f', cmap='coolwarm')\n",
    "plt.title('Correlation Matrix')\n",
    "plt.show()"
   ]
  },
  {
   "cell_type": "markdown",
   "id": "332c62de",
   "metadata": {},
   "source": [
    "6. Feature Engineering\n",
    "Create new features if needed and select relevant features for modeling.\n",
    "Our target variable for prediction will be helmet use before the accident."
   ]
  },
  {
   "cell_type": "code",
   "execution_count": 265,
   "id": "78f3366a",
   "metadata": {},
   "outputs": [],
   "source": [
    "target = 'Helmet_Use_Binary'\n",
    "features = [\n",
    "    'Age_of_Driver', 'Injury_Severity_Score',\n",
    "    # Add other relevant features for prediction\n",
    "    # Exclude helmet use itself from features\n",
    "    # Include encoded categorical features\n",
    "    # ...\n",
    "    # All columns except target and identifiers\n",
    "    # You may want to exclude columns like 'Accident_Severity_Cat', 'SevereOrFatal', etc.\n",
    "    # Example:\n",
    "    # [col for col in df_clean.columns if col not in [target, 'Accident_Severity_Cat', 'SevereOrFatal']]\n",
    "    # For now, include all except target and identifiers\n",
    "] + [col for col in df_clean.columns if col.startswith(('Road_Type_', 'Weather_Condition_', 'Time_of_Day_', \n",
    "                                                        'Helmet_Law_Enforced_', 'Traffic_Density_', 'Alcohol_Involved_',\n",
    "                                                        'Speed_Limit_', 'Country_'))]"
   ]
  },
  {
   "cell_type": "code",
   "execution_count": 266,
   "id": "46f718bb",
   "metadata": {},
   "outputs": [
    {
     "data": {
      "text/plain": [
       "(   Age_of_Driver  Injury_Severity_Score  Country_Nigeria  Road_Type_Urban  \\\n",
       " 0             50                      2            False             True   \n",
       " 1             22                      6            False            False   \n",
       " 2             45                     12            False             True   \n",
       " 3             31                      5             True             True   \n",
       " 4             22                     13            False             True   \n",
       " \n",
       "    Weather_Condition_Cloudy  Weather_Condition_Foggy  Weather_Condition_Rainy  \\\n",
       " 0                     False                    False                     True   \n",
       " 1                     False                    False                     True   \n",
       " 2                     False                    False                     True   \n",
       " 3                     False                    False                    False   \n",
       " 4                     False                    False                     True   \n",
       " \n",
       "    Time_of_Day_Evening  Time_of_Day_Morning  Time_of_Day_Night  \\\n",
       " 0                False                False              False   \n",
       " 1                False                False              False   \n",
       " 2                 True                False              False   \n",
       " 3                False                False              False   \n",
       " 4                 True                False              False   \n",
       " \n",
       "    Helmet_Law_Enforced_Yes  Traffic_Density_Low  Traffic_Density_Medium  \\\n",
       " 0                     True                False                    True   \n",
       " 1                     True                 True                   False   \n",
       " 2                     True                 True                   False   \n",
       " 3                     True                 True                   False   \n",
       " 4                     True                False                   False   \n",
       " \n",
       "    Alcohol_Involved_Yes  Speed_Limit_61-80 km/h  Speed_Limit_80+ km/h  \\\n",
       " 0                 False                   False                 False   \n",
       " 1                  True                    True                 False   \n",
       " 2                  True                   False                 False   \n",
       " 3                 False                   False                 False   \n",
       " 4                 False                   False                 False   \n",
       " \n",
       "    Speed_Limit_<=40 km/h  \n",
       " 0                  False  \n",
       " 1                  False  \n",
       " 2                  False  \n",
       " 3                  False  \n",
       " 4                   True  ,\n",
       " 0    1\n",
       " 1    1\n",
       " 2    0\n",
       " 3    0\n",
       " 4    0\n",
       " Name: Helmet_Use_Binary, dtype: int64)"
      ]
     },
     "execution_count": 266,
     "metadata": {},
     "output_type": "execute_result"
    }
   ],
   "source": [
    "\n",
    "# Set helmet use as the target variable for prediction\n",
    "X = df_clean[features]\n",
    "y = df_clean[target]\n",
    "\n",
    "X.head(), y.head()"
   ]
  },
  {
   "cell_type": "markdown",
   "id": "d38d5ecc",
   "metadata": {},
   "source": [
    "7. Train/Test Split\n",
    "Split the data into training and test sets for machine learning analysis. The target variable is helmet use before the accident."
   ]
  },
  {
   "cell_type": "code",
   "execution_count": 267,
   "id": "d2c81f25",
   "metadata": {},
   "outputs": [
    {
     "name": "stdout",
     "output_type": "stream",
     "text": [
      "Train set size: (400, 17)\n",
      "Test set size: (100, 17)\n"
     ]
    }
   ],
   "source": [
    "X_train, X_test, y_train, y_test = train_test_split(X, y, test_size=0.2, random_state=42, stratify=y)\n",
    "\n",
    "print('Train set size:', X_train.shape)\n",
    "print('Test set size:', X_test.shape)\n",
    "\n"
   ]
  },
  {
   "cell_type": "markdown",
   "id": "aa8a4395",
   "metadata": {},
   "source": [
    "8. Model Selection and Training\n"
   ]
  },
  {
   "cell_type": "markdown",
   "id": "ccb1dabf",
   "metadata": {},
   "source": [
    "Choose appropriate ML algorithms (e.g., logistic regression, decision tree, random forest) to predict helmet use before the accident.\n",
    "Train models."
   ]
  },
  {
   "cell_type": "code",
   "execution_count": 277,
   "id": "a732a02e",
   "metadata": {},
   "outputs": [
    {
     "name": "stdout",
     "output_type": "stream",
     "text": [
      "Models trained to predict helmet use before accident: Logistic Regression, Decision Tree, Random Forest\n"
     ]
    },
    {
     "data": {
      "application/vnd.microsoft.datawrangler.viewer.v0+json": {
       "columns": [
        {
         "name": "index",
         "rawType": "object",
         "type": "string"
        },
        {
         "name": "Logistic Regression",
         "rawType": "float64",
         "type": "float"
        },
        {
         "name": "Decision Tree",
         "rawType": "float64",
         "type": "float"
        },
        {
         "name": "Random Forest",
         "rawType": "float64",
         "type": "float"
        }
       ],
       "ref": "d9936ac1-7e90-4034-99d0-8a9bfb5048ee",
       "rows": [
        [
         "Accuracy",
         "0.5725",
         "1.0",
         "1.0"
        ],
        [
         "Precision",
         "0.5805369127516778",
         "1.0",
         "1.0"
        ],
        [
         "Recall",
         "0.7899543378995434",
         "1.0",
         "1.0"
        ],
        [
         "F1",
         "0.6692456479690522",
         "1.0",
         "1.0"
        ],
        [
         "ROC_AUC",
         "0.576856126542042",
         "1.0",
         "1.0"
        ]
       ],
       "shape": {
        "columns": 3,
        "rows": 5
       }
      },
      "text/html": [
       "<div>\n",
       "<style scoped>\n",
       "    .dataframe tbody tr th:only-of-type {\n",
       "        vertical-align: middle;\n",
       "    }\n",
       "\n",
       "    .dataframe tbody tr th {\n",
       "        vertical-align: top;\n",
       "    }\n",
       "\n",
       "    .dataframe thead th {\n",
       "        text-align: right;\n",
       "    }\n",
       "</style>\n",
       "<table border=\"1\" class=\"dataframe\">\n",
       "  <thead>\n",
       "    <tr style=\"text-align: right;\">\n",
       "      <th></th>\n",
       "      <th>Logistic Regression</th>\n",
       "      <th>Decision Tree</th>\n",
       "      <th>Random Forest</th>\n",
       "    </tr>\n",
       "  </thead>\n",
       "  <tbody>\n",
       "    <tr>\n",
       "      <th>Accuracy</th>\n",
       "      <td>0.572500</td>\n",
       "      <td>1.0</td>\n",
       "      <td>1.0</td>\n",
       "    </tr>\n",
       "    <tr>\n",
       "      <th>Precision</th>\n",
       "      <td>0.580537</td>\n",
       "      <td>1.0</td>\n",
       "      <td>1.0</td>\n",
       "    </tr>\n",
       "    <tr>\n",
       "      <th>Recall</th>\n",
       "      <td>0.789954</td>\n",
       "      <td>1.0</td>\n",
       "      <td>1.0</td>\n",
       "    </tr>\n",
       "    <tr>\n",
       "      <th>F1</th>\n",
       "      <td>0.669246</td>\n",
       "      <td>1.0</td>\n",
       "      <td>1.0</td>\n",
       "    </tr>\n",
       "    <tr>\n",
       "      <th>ROC_AUC</th>\n",
       "      <td>0.576856</td>\n",
       "      <td>1.0</td>\n",
       "      <td>1.0</td>\n",
       "    </tr>\n",
       "  </tbody>\n",
       "</table>\n",
       "</div>"
      ],
      "text/plain": [
       "           Logistic Regression  Decision Tree  Random Forest\n",
       "Accuracy              0.572500            1.0            1.0\n",
       "Precision             0.580537            1.0            1.0\n",
       "Recall                0.789954            1.0            1.0\n",
       "F1                    0.669246            1.0            1.0\n",
       "ROC_AUC               0.576856            1.0            1.0"
      ]
     },
     "execution_count": 277,
     "metadata": {},
     "output_type": "execute_result"
    }
   ],
   "source": [
    "# Logistic Regression\n",
    "logreg = LogisticRegression(max_iter=1000)\n",
    "logreg.fit(X_train, y_train)\n",
    "\n",
    "# Decision Tree\n",
    "dtree = DecisionTreeClassifier(random_state=42)\n",
    "dtree.fit(X_train, y_train)\n",
    "\n",
    "# Random Forest\n",
    "rf = RandomForestClassifier(n_estimators=100, random_state=42)\n",
    "rf.fit(X_train, y_train)\n",
    "\n",
    "print('Models trained to predict helmet use before accident: Logistic Regression, Decision Tree, Random Forest')\n",
    "\n",
    "\n",
    "\n",
    "def evaluate_model(model, X_train, y_train):\n",
    "    y_pred = model.predict(X_train)\n",
    "    acc = accuracy_score(y_train, y_pred)\n",
    "    prec = precision_score(y_train, y_pred)\n",
    "    rec = recall_score(y_train, y_pred)\n",
    "    f1 = f1_score(y_train, y_pred)\n",
    "    auc = roc_auc_score(y_train, model.predict_proba(X_train)[:,1]) if hasattr(model, 'predict_proba') else None\n",
    "    return {'Accuracy': acc, 'Precision': prec, 'Recall': rec, 'F1': f1, 'ROC_AUC': auc}\n",
    "\n",
    "results = {\n",
    "    'Logistic Regression': evaluate_model(logreg, X_train, y_train),\n",
    "    'Decision Tree': evaluate_model(dtree, X_train, y_train),\n",
    "    'Random Forest': evaluate_model(rf, X_train, y_train)\n",
    "}\n",
    "\n",
    "results_df = pd.DataFrame(results).T\n",
    "results_df.transpose()"
   ]
  },
  {
   "cell_type": "markdown",
   "id": "fd46ee3b",
   "metadata": {},
   "source": [
    "From the result of both decsion tree and random forest, it is most likely that we have an overfitting and not generalizing well. \n",
    "\n",
    "Only Logistic regression has performed well"
   ]
  },
  {
   "cell_type": "markdown",
   "id": "c0f86cf8",
   "metadata": {},
   "source": [
    "9. Model Evaluation and Important Metric Identification\n",
    "Evaluate models using metrics such as accuracy, precision, recall.\n"
   ]
  },
  {
   "cell_type": "code",
   "execution_count": 276,
   "id": "f4757b0d",
   "metadata": {},
   "outputs": [
    {
     "data": {
      "application/vnd.microsoft.datawrangler.viewer.v0+json": {
       "columns": [
        {
         "name": "index",
         "rawType": "object",
         "type": "string"
        },
        {
         "name": "Logistic Regression",
         "rawType": "float64",
         "type": "float"
        },
        {
         "name": "Decision Tree",
         "rawType": "float64",
         "type": "float"
        },
        {
         "name": "Random Forest",
         "rawType": "float64",
         "type": "float"
        }
       ],
       "ref": "b8ed5261-b2a9-4af2-b41c-c1369f18f5fd",
       "rows": [
        [
         "Accuracy",
         "0.5",
         "0.43",
         "0.48"
        ],
        [
         "Precision",
         "0.5362318840579711",
         "0.48148148148148145",
         "0.5272727272727272"
        ],
        [
         "Recall",
         "0.6727272727272727",
         "0.4727272727272727",
         "0.5272727272727272"
        ],
        [
         "F1",
         "0.5967741935483871",
         "0.47706422018348627",
         "0.5272727272727272"
        ],
        [
         "ROC_AUC",
         "0.5208080808080808",
         "0.4252525252525252",
         "0.4670707070707071"
        ]
       ],
       "shape": {
        "columns": 3,
        "rows": 5
       }
      },
      "text/html": [
       "<div>\n",
       "<style scoped>\n",
       "    .dataframe tbody tr th:only-of-type {\n",
       "        vertical-align: middle;\n",
       "    }\n",
       "\n",
       "    .dataframe tbody tr th {\n",
       "        vertical-align: top;\n",
       "    }\n",
       "\n",
       "    .dataframe thead th {\n",
       "        text-align: right;\n",
       "    }\n",
       "</style>\n",
       "<table border=\"1\" class=\"dataframe\">\n",
       "  <thead>\n",
       "    <tr style=\"text-align: right;\">\n",
       "      <th></th>\n",
       "      <th>Logistic Regression</th>\n",
       "      <th>Decision Tree</th>\n",
       "      <th>Random Forest</th>\n",
       "    </tr>\n",
       "  </thead>\n",
       "  <tbody>\n",
       "    <tr>\n",
       "      <th>Accuracy</th>\n",
       "      <td>0.500000</td>\n",
       "      <td>0.430000</td>\n",
       "      <td>0.480000</td>\n",
       "    </tr>\n",
       "    <tr>\n",
       "      <th>Precision</th>\n",
       "      <td>0.536232</td>\n",
       "      <td>0.481481</td>\n",
       "      <td>0.527273</td>\n",
       "    </tr>\n",
       "    <tr>\n",
       "      <th>Recall</th>\n",
       "      <td>0.672727</td>\n",
       "      <td>0.472727</td>\n",
       "      <td>0.527273</td>\n",
       "    </tr>\n",
       "    <tr>\n",
       "      <th>F1</th>\n",
       "      <td>0.596774</td>\n",
       "      <td>0.477064</td>\n",
       "      <td>0.527273</td>\n",
       "    </tr>\n",
       "    <tr>\n",
       "      <th>ROC_AUC</th>\n",
       "      <td>0.520808</td>\n",
       "      <td>0.425253</td>\n",
       "      <td>0.467071</td>\n",
       "    </tr>\n",
       "  </tbody>\n",
       "</table>\n",
       "</div>"
      ],
      "text/plain": [
       "           Logistic Regression  Decision Tree  Random Forest\n",
       "Accuracy              0.500000       0.430000       0.480000\n",
       "Precision             0.536232       0.481481       0.527273\n",
       "Recall                0.672727       0.472727       0.527273\n",
       "F1                    0.596774       0.477064       0.527273\n",
       "ROC_AUC               0.520808       0.425253       0.467071"
      ]
     },
     "execution_count": 276,
     "metadata": {},
     "output_type": "execute_result"
    }
   ],
   "source": [
    "def evaluate_model(model, X_test, y_test):\n",
    "    y_pred = model.predict(X_test)\n",
    "    acc = accuracy_score(y_test, y_pred)\n",
    "    prec = precision_score(y_test, y_pred)\n",
    "    rec = recall_score(y_test, y_pred)\n",
    "    f1 = f1_score(y_test, y_pred)\n",
    "    auc = roc_auc_score(y_test, model.predict_proba(X_test)[:,1]) if hasattr(model, 'predict_proba') else None\n",
    "    return {'Accuracy': acc, 'Precision': prec, 'Recall': rec, 'F1': f1, 'ROC_AUC': auc}\n",
    "\n",
    "results = {\n",
    "    'Logistic Regression': evaluate_model(logreg, X_test, y_test),\n",
    "    'Decision Tree': evaluate_model(dtree, X_test, y_test),\n",
    "    'Random Forest': evaluate_model(rf, X_test, y_test)\n",
    "}\n",
    "\n",
    "results_df = pd.DataFrame(results).T\n",
    "results_df.transpose()"
   ]
  },
  {
   "cell_type": "markdown",
   "id": "22b8e1dc",
   "metadata": {},
   "source": [
    "Only logistic regression model has been similar in performance across different metrics."
   ]
  },
  {
   "cell_type": "markdown",
   "id": "f3854f91",
   "metadata": {},
   "source": [
    "10. Model Validation\n",
    "Validate model results using cross-validation or test set performance. Display confusion matrix and ROC curve for helmet use prediction."
   ]
  },
  {
   "cell_type": "code",
   "execution_count": 279,
   "id": "35972ac7",
   "metadata": {},
   "outputs": [
    {
     "name": "stdout",
     "output_type": "stream",
     "text": [
      "Cross-validated Precision scores: [0.56923077 0.52054795 0.5915493  0.52054795 0.54411765]\n",
      "Mean Precision: 0.5491987204950399\n"
     ]
    }
   ],
   "source": [
    "# Cross-validation for precision\n",
    "cv_precision = cross_val_score(logreg, X, y, cv=5, scoring='precision')\n",
    "print('Cross-validated Precision scores:', cv_precision)\n",
    "print('Mean Precision:', np.mean(cv_precision))"
   ]
  },
  {
   "cell_type": "markdown",
   "id": "2213152f",
   "metadata": {},
   "source": [
    "Importance of Precision in Predicting Helmet Use\n",
    "Precision measures the proportion of riders predicted to be wearing helmets who actually were wearing helmets before the accident. High precision means fewer false positives—so when the model predicts helmet use, it is likely correct. This is important if interventions or policies are targeted based on predicted helmet use, as it avoids misclassifying non-helmeted riders as helmeted."
   ]
  },
  {
   "cell_type": "code",
   "execution_count": 280,
   "id": "42fbf336",
   "metadata": {},
   "outputs": [
    {
     "data": {
      "image/png": "[encoded data removed]",
      "text/plain": [
       "<Figure size 640x480 with 1 Axes>"
      ]
     },
     "metadata": {},
     "output_type": "display_data"
    }
   ],
   "source": [
    "# ROC curve\n",
    "y_proba = logreg.predict_proba(X_test)[:,1]\n",
    "fpr, tpr, thresholds = roc_curve(y_test, y_proba)\n",
    "roc_auc = auc(fpr, tpr)\n",
    "plt.figure()\n",
    "plt.plot(fpr, tpr, label=f'ROC curve (area = {roc_auc:.2f})')\n",
    "plt.plot([0, 1], [0, 1], 'k--')\n",
    "plt.xlabel('False Positive Rate')\n",
    "plt.ylabel('True Positive Rate')\n",
    "plt.title('ROC Curve for Helmet Use Prediction')\n",
    "plt.legend(loc='lower right')\n",
    "plt.show()\n"
   ]
  },
  {
   "cell_type": "code",
   "execution_count": null,
   "id": "70e2deb5",
   "metadata": {
    "vscode": {
     "languageId": "r"
    }
   },
   "outputs": [],
   "source": []
  },
  {
   "cell_type": "code",
   "execution_count": 282,
   "id": "a0cf957c",
   "metadata": {},
   "outputs": [
    {
     "data": {
      "image/png": "[encoded data removed]",
      "text/plain": [
       "<Figure size 1000x600 with 1 Axes>"
      ]
     },
     "metadata": {},
     "output_type": "display_data"
    }
   ],
   "source": [
    "# Explanation of the ROC curve for helmet use prediction\n",
    "plt.figure(figsize=(10, 6))\n",
    "plt.plot(fpr, tpr, label=f'ROC curve (area = {roc_auc:.2f})')\n",
    "plt.plot([0, 1], [0, 1], 'k--', label='Random chance')\n",
    "plt.xlim([0.0, 1.0])\n",
    "plt.ylim([0.0, 1.05])\n",
    "plt.xlabel('False Positive Rate (1 - Specificity)', fontsize=12)\n",
    "plt.ylabel('True Positive Rate (Sensitivity)', fontsize=12)\n",
    "plt.title('ROC Curve Interpretation: Helmet Use Prediction', fontsize=14)\n",
    "plt.legend(loc=\"lower right\")\n",
    "\n",
    "# Add annotations to explain key concepts\n",
    "plt.annotate('Better performance', xy=(0.2, 0.8), xytext=(0.4, 0.7),\n",
    "            arrowprops=dict(facecolor='black', shrink=0.05, width=1.5))\n",
    "plt.annotate('AUC ≈ 0.52: Model only slightly better than random', \n",
    "            xy=(0.7, 0.5), xytext=(0.5, 0.3), \n",
    "            arrowprops=dict(facecolor='black', shrink=0.05, width=1.5))\n",
    "\n",
    "# Add explanation text in the plot\n",
    "explanation = \"\"\"\n",
    "ROC Curve Analysis:\n",
    "- Plots True Positive Rate vs False Positive Rate\n",
    "- Shows model's ability to distinguish between helmet users and non-users\n",
    "- Curve closer to top-left corner indicates better performance\n",
    "- AUC = 0.52 suggests the model has limited predictive power\n",
    "- Nearly diagonal line indicates performance close to random guessing\n",
    "\"\"\"\n",
    "plt.figtext(0.15, 0.15, explanation, bbox=dict(facecolor='white', alpha=0.8))\n",
    "\n",
    "plt.grid(True, alpha=0.3)\n",
    "plt.show()"
   ]
  },
  {
   "cell_type": "code",
   "execution_count": 281,
   "id": "8f11c0f7",
   "metadata": {},
   "outputs": [
    {
     "data": {
      "image/png": "[encoded data removed]",
      "text/plain": [
       "<Figure size 640x480 with 2 Axes>"
      ]
     },
     "metadata": {},
     "output_type": "display_data"
    }
   ],
   "source": [
    "# Confusion matrix\n",
    "ConfusionMatrixDisplay.from_estimator(logreg, X_test, y_test)\n",
    "plt.title('Confusion Matrix for Helmet Use Prediction')\n",
    "plt.show()"
   ]
  },
  {
   "cell_type": "code",
   "execution_count": 283,
   "id": "e2a19ebc",
   "metadata": {},
   "outputs": [
    {
     "data": {
      "image/png": "[encoded data removed]",
      "text/plain": [
       "<Figure size 1000x800 with 1 Axes>"
      ]
     },
     "metadata": {},
     "output_type": "display_data"
    }
   ],
   "source": [
    "from sklearn.metrics import confusion_matrix\n",
    "\n",
    "# Extract confusion matrix values\n",
    "cm = confusion_matrix(y_test, logreg.predict(X_test))\n",
    "\n",
    "# Calculate metrics from confusion matrix\n",
    "tn, fp, fn, tp = cm.ravel()\n",
    "total = tn + fp + fn + tp\n",
    "accuracy = (tn + tp) / total\n",
    "sensitivity = tp / (tp + fn) if (tp + fn) > 0 else 0  # True Positive Rate / Recall\n",
    "specificity = tn / (tn + fp) if (tn + fp) > 0 else 0  # True Negative Rate\n",
    "precision_val = tp / (tp + fp) if (tp + fp) > 0 else 0\n",
    "npv = tn / (tn + fn) if (tn + fn) > 0 else 0  # Negative Predictive Value\n",
    "\n",
    "# Create figure with annotations\n",
    "plt.figure(figsize=(10, 8))\n",
    "sns.heatmap(cm, annot=True, fmt='d', cmap='Blues', cbar=False)\n",
    "plt.title('Confusion Matrix for Helmet Use Prediction', fontsize=16)\n",
    "plt.ylabel('Actual Helmet Use', fontsize=14)\n",
    "plt.xlabel('Predicted Helmet Use', fontsize=14)\n",
    "plt.xticks([0.5, 1.5], ['No Helmet (0)', 'Helmet (1)'])\n",
    "plt.yticks([0.5, 1.5], ['No Helmet (0)', 'Helmet (1)'])\n",
    "\n",
    "# Add explanatory text\n",
    "explanation_text = f\"\"\"\n",
    "Confusion Matrix Interpretation:\n",
    "- True Negatives ({tn}): Correctly predicted riders NOT wearing helmets\n",
    "- False Positives ({fp}): Incorrectly predicted helmet use when none was present\n",
    "- False Negatives ({fn}): Missed identifying riders who WERE wearing helmets\n",
    "- True Positives ({tp}): Correctly predicted riders wearing helmets\n",
    "\n",
    "Key Metrics:\n",
    "- Accuracy: {accuracy:.2f} (Overall correct predictions)\n",
    "- Sensitivity/Recall: {sensitivity:.2f} (Ability to detect helmet users)\n",
    "- Specificity: {specificity:.2f} (Ability to detect non-helmet users)\n",
    "- Precision: {precision_val:.2f} (When model predicts helmet use, how often it's correct)\n",
    "- NPV: {npv:.2f} (When model predicts no helmet, how often it's correct)\n",
    "\n",
    "Impact for Safety Programs:\n",
    "- False negatives represent missed opportunities for targeted interventions\n",
    "- False positives could lead to resources being allocated to the wrong populations\n",
    "- Model is more effective at detecting {\"helmet users\" if sensitivity > specificity else \"non-helmet users\"}\n",
    "\"\"\"\n",
    "\n",
    "plt.figtext(0.5, -0.15, explanation_text, wrap=True, horizontalalignment='center', fontsize=12, \n",
    "            bbox=dict(boxstyle=\"round,pad=0.5\", facecolor='white', alpha=0.8))\n",
    "\n",
    "plt.tight_layout()\n",
    "plt.subplots_adjust(bottom=0.5)\n",
    "plt.show()"
   ]
  },
  {
   "cell_type": "markdown",
   "id": "ab6d520c",
   "metadata": {},
   "source": [
    "Model Validation\n",
    "To validate the model, we use cross-validation to assess its generalizability. We also examine the confusion matrix and ROC curve to understand the model's performance in distinguishing helmeted from non-helmeted riders.\n",
    "\n",
    "Justification of Modeling Decisions and Results\n",
    "Model Choice: Multiple algorithms (Logistic Regression, Decision Tree, Random Forest) were selected to provide a robust comparison and to capture both linear and non-linear relationships in the data. Random Forest was emphasized for its ability to handle complex feature interactions and its strong performance in classification tasks.\n",
    "\n",
    "Feature Selection: Features were chosen based on exploratory analysis, focusing on variables likely to influence helmet use (e.g., age, injury severity, road type, weather, time of day, law enforcement, traffic, alcohol involvement, speed limit, country). Helmet use itself was excluded from predictors to avoid data leakage.\n",
    "\n",
    "Metric Selection: Precision and recall were prioritized. Precision is important to avoid falsely classifying non-helmeted riders as helmeted, which is critical for targeted interventions. Recall ensures that most helmeted riders are correctly identified, reducing missed cases.\n",
    "\n",
    "Validation: Results are validated using cross-validation, confusion matrix, and ROC curve. Cross-validation ensures the model generalizes well to unseen data. The confusion matrix provides insight into true/false positives and negatives, while the ROC curve assesses the model's ability to distinguish helmeted from non-helmeted riders.\n",
    "\n",
    "Interpretation: High precision and recall indicate reliable predictions. If the model achieves strong scores in both metrics, it can be confidently used for policy or intervention planning. Feature importance from Random Forest can further guide which factors most influence helmet use."
   ]
  }
 ],
 "metadata": {
  "kernelspec": {
   "display_name": "credit-prediction (3.12.10)",
   "language": "python",
   "name": "python3"
  },
  "language_info": {
   "codemirror_mode": {
    "name": "ipython",
    "version": 3
   },
   "file_extension": ".py",
   "mimetype": "text/x-python",
   "name": "python",
   "nbconvert_exporter": "python",
   "pygments_lexer": "ipython3",
   "version": "3.12.10"
  }
 },
 "nbformat": 4,
 "nbformat_minor": 5
}
